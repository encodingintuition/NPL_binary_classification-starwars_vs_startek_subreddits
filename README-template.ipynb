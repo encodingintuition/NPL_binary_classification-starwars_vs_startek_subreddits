{
 "cells": [
  {
   "cell_type": "code",
   "execution_count": 1,
   "metadata": {},
   "outputs": [],
   "source": [
    "# template of readme "
   ]
  },
  {
   "cell_type": "markdown",
   "metadata": {},
   "source": [
    "# TITLE"
   ]
  },
  {
   "cell_type": "code",
   "execution_count": null,
   "metadata": {},
   "outputs": [],
   "source": [
    "# image \n",
    "\n",
    "\n"
   ]
  },
  {
   "cell_type": "markdown",
   "metadata": {},
   "source": [
    "## Introduction "
   ]
  },
  {
   "cell_type": "markdown",
   "metadata": {},
   "source": [
    "blao akladkfj aldfh osifj "
   ]
  },
  {
   "cell_type": "markdown",
   "metadata": {},
   "source": [
    "Utilized python Libaries:\n",
    "- numpy\n",
    "- Pandas"
   ]
  },
  {
   "cell_type": "markdown",
   "metadata": {},
   "source": [
    "## Problem Statement"
   ]
  },
  {
   "cell_type": "code",
   "execution_count": null,
   "metadata": {},
   "outputs": [],
   "source": [
    "ajfdshfkajshfkdha  hdskjh dkjshfkdsjh fkds fh dskh fsk h\n",
    "\n",
    "Scoring metrics used,  primary ()\n",
    "Models used D tree, Bayes "
   ]
  },
  {
   "cell_type": "markdown",
   "metadata": {},
   "source": [
    "## Executive Summary "
   ]
  },
  {
   "cell_type": "code",
   "execution_count": null,
   "metadata": {},
   "outputs": [],
   "source": [
    " fjkdhakjdfh  ahsjdkfh kj kj sdjk fhkdj hsfkjhsakfds sjkdhf kjshiu yruehjwkjs"
   ]
  },
  {
   "cell_type": "markdown",
   "metadata": {},
   "source": [
    "## Contents\n",
    "\n",
    "- 00-reddit_digger.ipynb\n",
    "- 01-Data_clean-proj_3.ipynb\n",
    "- 02-basic_modeling-proj_3.ipynb\n",
    "- 03-nbayesGS_proj_3.ipynb"
   ]
  },
  {
   "cell_type": "markdown",
   "metadata": {},
   "source": [
    "---"
   ]
  },
  {
   "cell_type": "markdown",
   "metadata": {},
   "source": [
    "## Overview"
   ]
  },
  {
   "cell_type": "markdown",
   "metadata": {},
   "source": [
    "- Process of what i did \n",
    "- Process of what i did \n",
    "- Process of what i did \n",
    "- Process of what i did \n",
    "- Process of what i did \n",
    "- Process of what i did \n"
   ]
  },
  {
   "cell_type": "code",
   "execution_count": null,
   "metadata": {},
   "outputs": [],
   "source": []
  },
  {
   "cell_type": "markdown",
   "metadata": {},
   "source": [
    "### NoteBook 1.1 Text Preprocessing and EDA\n",
    "\n",
    "- nltk: Natural Language Processing\n",
    "- matplotlib: data visualization\n",
    "- sklearn: word vectorization\n",
    "\n",
    "First ....\n",
    "\n",
    "Next ...."
   ]
  },
  {
   "cell_type": "markdown",
   "metadata": {},
   "source": [
    "### NoteBook 1.2 Text Preprocessing and EDA\n",
    "\n",
    "- nltk: Natural Language Processing\n",
    "- matplotlib: data visualization\n",
    "- sklearn: word vectorization\n",
    "\n",
    "First ....\n",
    "\n",
    "Next ...."
   ]
  },
  {
   "cell_type": "markdown",
   "metadata": {},
   "source": [
    "--- "
   ]
  },
  {
   "cell_type": "markdown",
   "metadata": {},
   "source": [
    "## Data Dictonary "
   ]
  },
  {
   "cell_type": "markdown",
   "metadata": {},
   "source": [
    "## Conclusion\n",
    "\n",
    "ajsflkjd jsd fljs fdjs flkdj sfj  dflkj aldkjlkj lkj dsf jdkj flkdjs kl"
   ]
  },
  {
   "cell_type": "markdown",
   "metadata": {},
   "source": [
    "## Areas of Future Studies\n",
    "\n",
    "kaljfdfjalks dfk jksl djfkjd akjsfdlkfj dklsjf lkdjsfkljdslk jdslkj sjdf lkadj "
   ]
  },
  {
   "cell_type": "markdown",
   "metadata": {},
   "source": [
    "## Sources \n",
    "\n",
    "\n",
    "htt://ksjhfkjash.com \n",
    "akjhdf dksjhfkdsjh  ajskhfd kdjsh \n",
    "kaj hdkljdf lkasj lj slfkjdsl \n"
   ]
  },
  {
   "cell_type": "code",
   "execution_count": null,
   "metadata": {},
   "outputs": [],
   "source": []
  },
  {
   "cell_type": "code",
   "execution_count": null,
   "metadata": {},
   "outputs": [],
   "source": []
  }
 ],
 "metadata": {
  "kernelspec": {
   "display_name": "Python 3",
   "language": "python",
   "name": "python3"
  },
  "language_info": {
   "codemirror_mode": {
    "name": "ipython",
    "version": 3
   },
   "file_extension": ".py",
   "mimetype": "text/x-python",
   "name": "python",
   "nbconvert_exporter": "python",
   "pygments_lexer": "ipython3",
   "version": "3.8.2"
  }
 },
 "nbformat": 4,
 "nbformat_minor": 4
}
