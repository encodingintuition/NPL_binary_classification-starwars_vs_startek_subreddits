{
 "cells": [
  {
   "cell_type": "code",
   "execution_count": null,
   "metadata": {},
   "outputs": [],
   "source": []
  },
  {
   "cell_type": "code",
   "execution_count": null,
   "metadata": {},
   "outputs": [],
   "source": []
  },
  {
   "cell_type": "code",
   "execution_count": null,
   "metadata": {},
   "outputs": [],
   "source": []
  },
  {
   "cell_type": "markdown",
   "metadata": {},
   "source": [
    "# Main Models - Project 3"
   ]
  },
  {
   "cell_type": "code",
   "execution_count": 1,
   "metadata": {},
   "outputs": [],
   "source": [
    "# Import Basics\n",
    "import numpy as np\n",
    "import pandas as pd\n",
    "\n",
    "#Import Visuals\n",
    "import matplotlib.pyplot as plt\n",
    "import seaborn as sns\n",
    "import missingno as msno\n",
    "\n",
    "# Import Linear Regression Algorithms\n",
    "from sklearn.linear_model import LinearRegression, Lasso, LassoCV ,Ridge, ElasticNet, LogisticRegression, RidgeCV\n",
    "from sklearn.neighbors import KNeighborsRegressor, KNeighborsClassifier\n",
    "from sklearn.ensemble import RandomForestClassifier, ExtraTreesClassifier\n",
    "\n",
    "# Import Optimization algorithms\n",
    "from sklearn.pipeline import make_pipeline, Pipeline\n",
    "from sklearn.svm import SVR\n",
    "\n",
    "# Import Data Processing\n",
    "from sklearn.model_selection import train_test_split, GridSearchCV\n",
    "from sklearn.preprocessing import StandardScaler, OneHotEncoder, OrdinalEncoder, PowerTransformer, PolynomialFeatures\n",
    "\n",
    "from sklearn.impute import KNNImputer\n",
    "from sklearn.impute import SimpleImputer\n",
    "from sklearn.compose import ColumnTransformer, make_column_transformer, make_column_selector\n",
    "\n",
    "\n",
    "from sklearn.naive_bayes import MultinomialNB\n",
    "\n",
    "# NPL \n",
    "from textblob import TextBlob\n",
    "from vaderSentiment.vaderSentiment import SentimentIntensityAnalyzer\n",
    "from sklearn.feature_extraction.text import CountVectorizer, TfidfVectorizer\n",
    "from nltk.stem import WordNetLemmatizer\n",
    "from nltk.stem.porter import PorterStemmer\n",
    "\n",
    "from sklearn.feature_extraction import text\n",
    "\n",
    "#scrapping \n",
    "import json\n",
    "\n",
    "#Import graphical user info\n",
    "from sklearn import set_config\n",
    "\n",
    "# Metrics\n",
    "from sklearn.metrics import accuracy_score, mean_squared_error\n",
    "from sklearn.metrics import mean_absolute_error\n",
    "from sklearn.metrics import balanced_accuracy_score\n",
    "from sklearn.metrics import f1_score\n",
    "from sklearn.metrics import precision_score\n",
    "from sklearn.metrics import recall_score\n",
    "\n",
    "from sklearn.metrics import plot_confusion_matrix\n",
    "from sklearn.metrics import confusion_matrix"
   ]
  },
  {
   "cell_type": "markdown",
   "metadata": {},
   "source": [
    "### Data Input - from clean data"
   ]
  },
  {
   "cell_type": "code",
   "execution_count": 2,
   "metadata": {},
   "outputs": [
    {
     "data": {
      "text/html": [
       "<div>\n",
       "<style scoped>\n",
       "    .dataframe tbody tr th:only-of-type {\n",
       "        vertical-align: middle;\n",
       "    }\n",
       "\n",
       "    .dataframe tbody tr th {\n",
       "        vertical-align: top;\n",
       "    }\n",
       "\n",
       "    .dataframe thead th {\n",
       "        text-align: right;\n",
       "    }\n",
       "</style>\n",
       "<table border=\"1\" class=\"dataframe\">\n",
       "  <thead>\n",
       "    <tr style=\"text-align: right;\">\n",
       "      <th></th>\n",
       "      <th>title</th>\n",
       "      <th>selftext</th>\n",
       "      <th>subreddit</th>\n",
       "      <th>author</th>\n",
       "      <th>max_text</th>\n",
       "    </tr>\n",
       "  </thead>\n",
       "  <tbody>\n",
       "    <tr>\n",
       "      <th>4534</th>\n",
       "      <td>my gf wants to binge watch the entire series w...</td>\n",
       "      <td>[removed]\\n\\n[view poll](https://www.reddit.co...</td>\n",
       "      <td>starwars</td>\n",
       "      <td>tox1cZach</td>\n",
       "      <td>my gf wants to binge watch the entire series w...</td>\n",
       "    </tr>\n",
       "    <tr>\n",
       "      <th>2842</th>\n",
       "      <td>what black armoured characters droids or vehic...</td>\n",
       "      <td>hi guys!  \\n\\n\\nim struggling to think here, a...</td>\n",
       "      <td>starwars</td>\n",
       "      <td>Carnifekt</td>\n",
       "      <td>what black armoured characters droids or vehic...</td>\n",
       "    </tr>\n",
       "    <tr>\n",
       "      <th>2349</th>\n",
       "      <td>is vader turning good a subversion of expectat...</td>\n",
       "      <td>i only think it is because i felt most people ...</td>\n",
       "      <td>starwars</td>\n",
       "      <td>LordUhtredRagnarsson</td>\n",
       "      <td>is vader turning good a subversion of expectat...</td>\n",
       "    </tr>\n",
       "    <tr>\n",
       "      <th>10329</th>\n",
       "      <td>but why???</td>\n",
       "      <td>wtf was with the sudden relationship between 7...</td>\n",
       "      <td>startrek</td>\n",
       "      <td>Sec31</td>\n",
       "      <td>but why??? wtf was with the sudden relationshi...</td>\n",
       "    </tr>\n",
       "    <tr>\n",
       "      <th>519</th>\n",
       "      <td>who is cuter baby yoda or baby groot?</td>\n",
       "      <td>[removed]\\n\\n[view poll](https://www.reddit.co...</td>\n",
       "      <td>starwars</td>\n",
       "      <td>Cat_Scat500</td>\n",
       "      <td>who is cuter baby yoda or baby groot? [removed...</td>\n",
       "    </tr>\n",
       "    <tr>\n",
       "      <th>5890</th>\n",
       "      <td>james bond uses lcars</td>\n",
       "      <td>re-watching the daniel craig era bond films ah...</td>\n",
       "      <td>startrek</td>\n",
       "      <td>CestrianCFC</td>\n",
       "      <td>james bond uses lcars re-watching the daniel c...</td>\n",
       "    </tr>\n",
       "    <tr>\n",
       "      <th>2872</th>\n",
       "      <td>watching order that don't spoil - contains spo...</td>\n",
       "      <td>try to fill in the shoes of someone that has n...</td>\n",
       "      <td>starwars</td>\n",
       "      <td>Guigui_LB</td>\n",
       "      <td>watching order that don't spoil - contains spo...</td>\n",
       "    </tr>\n",
       "    <tr>\n",
       "      <th>7540</th>\n",
       "      <td>long time star trek fan finally watches voyage...</td>\n",
       "      <td>i meant to start this quite awhile ago but the...</td>\n",
       "      <td>startrek</td>\n",
       "      <td>MrPotato2753</td>\n",
       "      <td>long time star trek fan finally watches voyage...</td>\n",
       "    </tr>\n",
       "    <tr>\n",
       "      <th>11089</th>\n",
       "      <td>i know i’ll probably get hate for this, but ab...</td>\n",
       "      <td>the new enterprise a bridge bugs me a bit. it’...</td>\n",
       "      <td>startrek</td>\n",
       "      <td>NewWaveFreak</td>\n",
       "      <td>i know i’ll probably get hate for this, but ab...</td>\n",
       "    </tr>\n",
       "    <tr>\n",
       "      <th>6803</th>\n",
       "      <td>season 1 crusher is better than seasons 3-7 cr...</td>\n",
       "      <td>but pulaski is still the best</td>\n",
       "      <td>startrek</td>\n",
       "      <td>CaptainDipshiat</td>\n",
       "      <td>season 1 crusher is better than seasons 3-7 cr...</td>\n",
       "    </tr>\n",
       "  </tbody>\n",
       "</table>\n",
       "</div>"
      ],
      "text/plain": [
       "                                                   title  \\\n",
       "4534   my gf wants to binge watch the entire series w...   \n",
       "2842   what black armoured characters droids or vehic...   \n",
       "2349   is vader turning good a subversion of expectat...   \n",
       "10329                                         but why???   \n",
       "519                who is cuter baby yoda or baby groot?   \n",
       "5890                               james bond uses lcars   \n",
       "2872   watching order that don't spoil - contains spo...   \n",
       "7540   long time star trek fan finally watches voyage...   \n",
       "11089  i know i’ll probably get hate for this, but ab...   \n",
       "6803   season 1 crusher is better than seasons 3-7 cr...   \n",
       "\n",
       "                                                selftext subreddit  \\\n",
       "4534   [removed]\\n\\n[view poll](https://www.reddit.co...  starwars   \n",
       "2842   hi guys!  \\n\\n\\nim struggling to think here, a...  starwars   \n",
       "2349   i only think it is because i felt most people ...  starwars   \n",
       "10329  wtf was with the sudden relationship between 7...  startrek   \n",
       "519    [removed]\\n\\n[view poll](https://www.reddit.co...  starwars   \n",
       "5890   re-watching the daniel craig era bond films ah...  startrek   \n",
       "2872   try to fill in the shoes of someone that has n...  starwars   \n",
       "7540   i meant to start this quite awhile ago but the...  startrek   \n",
       "11089  the new enterprise a bridge bugs me a bit. it’...  startrek   \n",
       "6803                       but pulaski is still the best  startrek   \n",
       "\n",
       "                     author                                           max_text  \n",
       "4534              tox1cZach  my gf wants to binge watch the entire series w...  \n",
       "2842              Carnifekt  what black armoured characters droids or vehic...  \n",
       "2349   LordUhtredRagnarsson  is vader turning good a subversion of expectat...  \n",
       "10329                 Sec31  but why??? wtf was with the sudden relationshi...  \n",
       "519             Cat_Scat500  who is cuter baby yoda or baby groot? [removed...  \n",
       "5890            CestrianCFC  james bond uses lcars re-watching the daniel c...  \n",
       "2872              Guigui_LB  watching order that don't spoil - contains spo...  \n",
       "7540           MrPotato2753  long time star trek fan finally watches voyage...  \n",
       "11089          NewWaveFreak  i know i’ll probably get hate for this, but ab...  \n",
       "6803        CaptainDipshiat  season 1 crusher is better than seasons 3-7 cr...  "
      ]
     },
     "execution_count": 2,
     "metadata": {},
     "output_type": "execute_result"
    }
   ],
   "source": [
    "df = pd.read_csv('../clean_data/clean_data.csv')\n",
    "df.sample(10)"
   ]
  },
  {
   "cell_type": "markdown",
   "metadata": {},
   "source": [
    "#### Functions"
   ]
  },
  {
   "cell_type": "markdown",
   "metadata": {},
   "source": [
    "---"
   ]
  },
  {
   "cell_type": "code",
   "execution_count": 3,
   "metadata": {},
   "outputs": [],
   "source": [
    "# Lemmatize function to be run \n",
    "\n",
    "def the_lem(text):\n",
    "    text = text.lower()\n",
    "    lem = WordNetLemmatizer()\n",
    "    return ' '.join([lem.lemmatize(word) for word in text.split()])"
   ]
  },
  {
   "cell_type": "markdown",
   "metadata": {},
   "source": [
    "#### Appending  stop words"
   ]
  },
  {
   "cell_type": "code",
   "execution_count": 4,
   "metadata": {},
   "outputs": [
    {
     "data": {
      "text/plain": [
       "'\\n    Based on the top 100 most common words that where discoved through\\n        EDA after running the basic models, we have choosen words to be \\n        added to the stopword list and therefore be removed. This should \\n        allow more relevent words to float to the top.\\n'"
      ]
     },
     "execution_count": 4,
     "metadata": {},
     "output_type": "execute_result"
    }
   ],
   "source": [
    "\"\"\"\n",
    "    Based on the top 100 most common words that where discoved through\n",
    "        EDA after running the basic models, we have choosen words to be \n",
    "        added to the stopword list and therefore be removed. This should \n",
    "        allow more relevent words to float to the top.\n",
    "\"\"\""
   ]
  },
  {
   "cell_type": "code",
   "execution_count": 38,
   "metadata": {},
   "outputs": [],
   "source": [
    "my_stop_words = text.ENGLISH_STOP_WORDS.union(['http' , 'com', 've', 'www',\n",
    "                                               'reddit', ])#'subreddit!', 'subreddit',,'https'\n",
    "                                               "
   ]
  },
  {
   "cell_type": "code",
   "execution_count": 6,
   "metadata": {},
   "outputs": [],
   "source": [
    "# lemmatize stop words\n",
    "\n",
    "my_stop_words_lem = []\n",
    "for x in my_stop_words:\n",
    "    my_stop_words_lem.append(the_lem(x))\n",
    "    "
   ]
  },
  {
   "cell_type": "markdown",
   "metadata": {},
   "source": [
    "## Create X & y "
   ]
  },
  {
   "cell_type": "markdown",
   "metadata": {},
   "source": [
    "#### (using a random .sample() to run test before running all the data)"
   ]
  },
  {
   "cell_type": "markdown",
   "metadata": {},
   "source": [
    "---"
   ]
  },
  {
   "cell_type": "code",
   "execution_count": 7,
   "metadata": {},
   "outputs": [],
   "source": [
    "df_sample = df.sample(2500).copy()"
   ]
  },
  {
   "cell_type": "code",
   "execution_count": 8,
   "metadata": {},
   "outputs": [
    {
     "data": {
      "text/plain": [
       "(11720,)"
      ]
     },
     "execution_count": 8,
     "metadata": {},
     "output_type": "execute_result"
    }
   ],
   "source": [
    "# --- _sample\n",
    "X = df['max_text']\n",
    "X.shape"
   ]
  },
  {
   "cell_type": "code",
   "execution_count": 9,
   "metadata": {},
   "outputs": [
    {
     "data": {
      "text/plain": [
       "(11720,)"
      ]
     },
     "execution_count": 9,
     "metadata": {},
     "output_type": "execute_result"
    }
   ],
   "source": [
    "# 1 = Starwars -- _sample\n",
    "y = np.where(df['subreddit'] == 'starwars', 1, 0)\n",
    "y.shape"
   ]
  },
  {
   "cell_type": "code",
   "execution_count": 10,
   "metadata": {},
   "outputs": [
    {
     "data": {
      "text/plain": [
       "array([0, 1])"
      ]
     },
     "execution_count": 10,
     "metadata": {},
     "output_type": "execute_result"
    }
   ],
   "source": [
    "# Checking y\n",
    "np.unique(y)"
   ]
  },
  {
   "cell_type": "markdown",
   "metadata": {},
   "source": [
    "#### Train test split "
   ]
  },
  {
   "cell_type": "code",
   "execution_count": 11,
   "metadata": {},
   "outputs": [],
   "source": [
    "X_train, X_test, y_train, y_test = train_test_split(X, y, stratify =y , random_state = 8936) #8936"
   ]
  },
  {
   "cell_type": "markdown",
   "metadata": {},
   "source": [
    "### Baseline Accuracy"
   ]
  },
  {
   "cell_type": "markdown",
   "metadata": {},
   "source": [
    "- According to our inputed data our null / baseline Accuracy is 51%\n",
    "- If we where to randomly pull a sample there is a 51% chance that it will be a StarWars subreddit "
   ]
  },
  {
   "cell_type": "code",
   "execution_count": 12,
   "metadata": {},
   "outputs": [
    {
     "data": {
      "text/plain": [
       "0.5126279863481229"
      ]
     },
     "execution_count": 12,
     "metadata": {},
     "output_type": "execute_result"
    }
   ],
   "source": [
    "1- y_train.sum()/len(y_train)"
   ]
  },
  {
   "cell_type": "markdown",
   "metadata": {},
   "source": [
    "##  Muli-Nomial Bayes Model - Gridsearch "
   ]
  },
  {
   "cell_type": "markdown",
   "metadata": {},
   "source": [
    "---"
   ]
  },
  {
   "cell_type": "markdown",
   "metadata": {},
   "source": [
    "#### Vectorizers & Estimators "
   ]
  },
  {
   "cell_type": "code",
   "execution_count": 13,
   "metadata": {},
   "outputs": [],
   "source": [
    "cvect = CountVectorizer()\n",
    "tfidf = TfidfVectorizer()\n",
    "\n",
    "nbayes = MultinomialNB()"
   ]
  },
  {
   "cell_type": "markdown",
   "metadata": {},
   "source": [
    "#### Pipeslines"
   ]
  },
  {
   "cell_type": "code",
   "execution_count": 14,
   "metadata": {},
   "outputs": [],
   "source": [
    "cvect_nbayes = make_pipeline(cvect, nbayes)\n",
    "tfidf_nbayes = make_pipeline(tfidf, nbayes)\n",
    "\n"
   ]
  },
  {
   "cell_type": "markdown",
   "metadata": {},
   "source": [
    "#### Params"
   ]
  },
  {
   "cell_type": "code",
   "execution_count": 35,
   "metadata": {},
   "outputs": [],
   "source": [
    "params = {\n",
    "         'countvectorizer__max_features': [5000],\n",
    "         'countvectorizer__ngram_range': [(1,1),(1,2)],\n",
    "         'countvectorizer__min_df': [10],\n",
    "         #'countvectorizer__max_df': [0.5, 0.8, .9],\n",
    "         'countvectorizer__lowercase':[True],\n",
    "         'multinomialnb__alpha': [1e-1],\n",
    "         'countvectorizer__preprocessor':[the_lem],\n",
    "         'countvectorizer__stop_words':[my_stop_words_lem],\n",
    "         }"
   ]
  },
  {
   "cell_type": "markdown",
   "metadata": {},
   "source": [
    "#### Grid Search CV "
   ]
  },
  {
   "cell_type": "code",
   "execution_count": 36,
   "metadata": {},
   "outputs": [],
   "source": [
    "grid_bayes = GridSearchCV(cvect_nbayes, param_grid=params, n_jobs=-1)"
   ]
  },
  {
   "cell_type": "code",
   "execution_count": 39,
   "metadata": {},
   "outputs": [
    {
     "name": "stdout",
     "output_type": "stream",
     "text": [
      "CPU times: user 4 µs, sys: 1e+03 ns, total: 5 µs\n",
      "Wall time: 10 µs\n"
     ]
    },
    {
     "data": {
      "text/plain": [
       "GridSearchCV(estimator=Pipeline(steps=[('countvectorizer', CountVectorizer()),\n",
       "                                       ('multinomialnb', MultinomialNB())]),\n",
       "             n_jobs=-1,\n",
       "             param_grid={'countvectorizer__lowercase': [True],\n",
       "                         'countvectorizer__max_features': [5000],\n",
       "                         'countvectorizer__min_df': [10],\n",
       "                         'countvectorizer__ngram_range': [(1, 1), (1, 2)],\n",
       "                         'countvectorizer__preprocessor': [<function the_lem at 0x12df50a60>],\n",
       "                         'countvectorizer__stop_words': [['ourselves', 'last',\n",
       "                                                          'we', 'everything',\n",
       "                                                          'everyone', 'whereby',\n",
       "                                                          'whoever', 'upon',\n",
       "                                                          'show', 'even',\n",
       "                                                          'twenty', 'whereupon',\n",
       "                                                          'made', 'where',\n",
       "                                                          'whenever', 'cannot',\n",
       "                                                          'interest', 'our',\n",
       "                                                          'detail', 'see', 'u',\n",
       "                                                          'via', 'down',\n",
       "                                                          'herself',\n",
       "                                                          'themselves', 'with',\n",
       "                                                          'latter', 'one',\n",
       "                                                          'ours', 'per', ...]],\n",
       "                         'multinomialnb__alpha': [0.1]})"
      ]
     },
     "execution_count": 39,
     "metadata": {},
     "output_type": "execute_result"
    }
   ],
   "source": [
    "%time\n",
    "grid_bayes.fit(X_train, y_train)"
   ]
  },
  {
   "cell_type": "markdown",
   "metadata": {},
   "source": [
    "--- "
   ]
  },
  {
   "cell_type": "markdown",
   "metadata": {},
   "source": [
    "### Accuracy Scores"
   ]
  },
  {
   "cell_type": "code",
   "execution_count": 40,
   "metadata": {},
   "outputs": [
    {
     "data": {
      "text/plain": [
       "0.9824800910125142"
      ]
     },
     "execution_count": 40,
     "metadata": {},
     "output_type": "execute_result"
    }
   ],
   "source": [
    "grid_bayes.score(X_train, y_train)"
   ]
  },
  {
   "cell_type": "code",
   "execution_count": 41,
   "metadata": {},
   "outputs": [
    {
     "data": {
      "text/plain": [
       "0.9771331058020478"
      ]
     },
     "execution_count": 41,
     "metadata": {},
     "output_type": "execute_result"
    }
   ],
   "source": [
    "grid_bayes.score(X_test, y_test)"
   ]
  },
  {
   "cell_type": "markdown",
   "metadata": {},
   "source": [
    "### Best Params"
   ]
  },
  {
   "cell_type": "code",
   "execution_count": 42,
   "metadata": {},
   "outputs": [
    {
     "data": {
      "text/plain": [
       "{'countvectorizer__lowercase': True,\n",
       " 'countvectorizer__max_features': 5000,\n",
       " 'countvectorizer__min_df': 10,\n",
       " 'countvectorizer__ngram_range': (1, 2),\n",
       " 'countvectorizer__preprocessor': <function __main__.the_lem(text)>,\n",
       " 'countvectorizer__stop_words': ['ourselves',\n",
       "  'last',\n",
       "  'we',\n",
       "  'everything',\n",
       "  'everyone',\n",
       "  'whereby',\n",
       "  'whoever',\n",
       "  'upon',\n",
       "  'show',\n",
       "  'even',\n",
       "  'twenty',\n",
       "  'whereupon',\n",
       "  'made',\n",
       "  'where',\n",
       "  'whenever',\n",
       "  'cannot',\n",
       "  'interest',\n",
       "  'our',\n",
       "  'detail',\n",
       "  'see',\n",
       "  'u',\n",
       "  'via',\n",
       "  'down',\n",
       "  'herself',\n",
       "  'themselves',\n",
       "  'with',\n",
       "  'latter',\n",
       "  'one',\n",
       "  'ours',\n",
       "  'per',\n",
       "  'these',\n",
       "  'myself',\n",
       "  'afterwards',\n",
       "  'not',\n",
       "  'beforehand',\n",
       "  'first',\n",
       "  'becoming',\n",
       "  'through',\n",
       "  'a',\n",
       "  'along',\n",
       "  'must',\n",
       "  'mine',\n",
       "  'sixty',\n",
       "  'fifty',\n",
       "  'moreover',\n",
       "  'become',\n",
       "  'something',\n",
       "  'if',\n",
       "  'out',\n",
       "  'much',\n",
       "  'whereafter',\n",
       "  'may',\n",
       "  'beyond',\n",
       "  'since',\n",
       "  'anyway',\n",
       "  'for',\n",
       "  'reddit',\n",
       "  'also',\n",
       "  'give',\n",
       "  'your',\n",
       "  'ie',\n",
       "  'now',\n",
       "  'might',\n",
       "  've',\n",
       "  'that',\n",
       "  'be',\n",
       "  'some',\n",
       "  'seeming',\n",
       "  'sometimes',\n",
       "  'there',\n",
       "  'still',\n",
       "  'been',\n",
       "  'off',\n",
       "  'get',\n",
       "  'further',\n",
       "  'becomes',\n",
       "  'therein',\n",
       "  'what',\n",
       "  'any',\n",
       "  'her',\n",
       "  'find',\n",
       "  'who',\n",
       "  'the',\n",
       "  'forty',\n",
       "  'sometime',\n",
       "  'former',\n",
       "  'among',\n",
       "  'four',\n",
       "  'else',\n",
       "  'against',\n",
       "  'ltd',\n",
       "  'because',\n",
       "  'neither',\n",
       "  'perhaps',\n",
       "  'me',\n",
       "  'herein',\n",
       "  'being',\n",
       "  'twelve',\n",
       "  'couldnt',\n",
       "  'under',\n",
       "  'already',\n",
       "  'rather',\n",
       "  're',\n",
       "  'thereupon',\n",
       "  'will',\n",
       "  'hers',\n",
       "  'un',\n",
       "  'fill',\n",
       "  'inc',\n",
       "  'empty',\n",
       "  'itself',\n",
       "  'which',\n",
       "  'whose',\n",
       "  'either',\n",
       "  'please',\n",
       "  'ten',\n",
       "  'of',\n",
       "  'many',\n",
       "  'within',\n",
       "  'nor',\n",
       "  'then',\n",
       "  'except',\n",
       "  'amoungst',\n",
       "  'is',\n",
       "  'anyone',\n",
       "  'etc',\n",
       "  'below',\n",
       "  'co',\n",
       "  'over',\n",
       "  'part',\n",
       "  'whence',\n",
       "  'without',\n",
       "  'bottom',\n",
       "  'above',\n",
       "  'eg',\n",
       "  'elsewhere',\n",
       "  'on',\n",
       "  'put',\n",
       "  'thereafter',\n",
       "  'three',\n",
       "  'beside',\n",
       "  'le',\n",
       "  'though',\n",
       "  'never',\n",
       "  'nine',\n",
       "  'nobody',\n",
       "  'by',\n",
       "  'whether',\n",
       "  'com',\n",
       "  'it',\n",
       "  'each',\n",
       "  'could',\n",
       "  'www',\n",
       "  'always',\n",
       "  'other',\n",
       "  'although',\n",
       "  'bill',\n",
       "  'indeed',\n",
       "  'several',\n",
       "  'nothing',\n",
       "  'anywhere',\n",
       "  'became',\n",
       "  'seem',\n",
       "  'wherein',\n",
       "  'meanwhile',\n",
       "  'seemed',\n",
       "  'those',\n",
       "  'here',\n",
       "  'somewhere',\n",
       "  'i',\n",
       "  'de',\n",
       "  'amount',\n",
       "  'she',\n",
       "  'together',\n",
       "  'thus',\n",
       "  'cry',\n",
       "  'in',\n",
       "  'should',\n",
       "  'call',\n",
       "  'and',\n",
       "  'eight',\n",
       "  'hereafter',\n",
       "  'ever',\n",
       "  'con',\n",
       "  'they',\n",
       "  'so',\n",
       "  'take',\n",
       "  'no',\n",
       "  'everywhere',\n",
       "  'well',\n",
       "  'cant',\n",
       "  'wa',\n",
       "  'otherwise',\n",
       "  'top',\n",
       "  'http',\n",
       "  'noone',\n",
       "  'whereas',\n",
       "  'latterly',\n",
       "  'before',\n",
       "  'done',\n",
       "  'around',\n",
       "  'he',\n",
       "  'yours',\n",
       "  'five',\n",
       "  'all',\n",
       "  'describe',\n",
       "  'would',\n",
       "  'towards',\n",
       "  'after',\n",
       "  'thereby',\n",
       "  'keep',\n",
       "  'when',\n",
       "  'full',\n",
       "  'ha',\n",
       "  'third',\n",
       "  'had',\n",
       "  'from',\n",
       "  'somehow',\n",
       "  'whole',\n",
       "  'how',\n",
       "  'his',\n",
       "  'again',\n",
       "  'you',\n",
       "  'next',\n",
       "  'yourself',\n",
       "  'hundred',\n",
       "  'him',\n",
       "  'least',\n",
       "  'nowhere',\n",
       "  'others',\n",
       "  'behind',\n",
       "  'a',\n",
       "  'until',\n",
       "  'while',\n",
       "  'more',\n",
       "  'an',\n",
       "  'do',\n",
       "  'between',\n",
       "  'few',\n",
       "  'found',\n",
       "  'name',\n",
       "  'this',\n",
       "  'namely',\n",
       "  'fifteen',\n",
       "  'none',\n",
       "  'seems',\n",
       "  'front',\n",
       "  'thin',\n",
       "  'once',\n",
       "  'throughout',\n",
       "  'another',\n",
       "  'to',\n",
       "  'six',\n",
       "  'whither',\n",
       "  'two',\n",
       "  'however',\n",
       "  'have',\n",
       "  'formerly',\n",
       "  'their',\n",
       "  'am',\n",
       "  'anyhow',\n",
       "  'hereupon',\n",
       "  'it',\n",
       "  'therefore',\n",
       "  'thru',\n",
       "  'both',\n",
       "  'often',\n",
       "  'only',\n",
       "  'why',\n",
       "  'are',\n",
       "  'during',\n",
       "  'serious',\n",
       "  'toward',\n",
       "  'were',\n",
       "  'due',\n",
       "  'can',\n",
       "  'go',\n",
       "  'own',\n",
       "  'anything',\n",
       "  'back',\n",
       "  'almost',\n",
       "  'thence',\n",
       "  'too',\n",
       "  'hasnt',\n",
       "  'whatever',\n",
       "  'up',\n",
       "  'most',\n",
       "  'but',\n",
       "  'besides',\n",
       "  'at',\n",
       "  'someone',\n",
       "  'amongst',\n",
       "  'onto',\n",
       "  'nevertheless',\n",
       "  'mostly',\n",
       "  'sincere',\n",
       "  'yet',\n",
       "  'every',\n",
       "  'about',\n",
       "  'same',\n",
       "  'them',\n",
       "  'side',\n",
       "  'hereby',\n",
       "  'fire',\n",
       "  'such',\n",
       "  'than',\n",
       "  'yourselves',\n",
       "  'alone',\n",
       "  'hence',\n",
       "  'thick',\n",
       "  'whom',\n",
       "  'into',\n",
       "  'or',\n",
       "  'himself',\n",
       "  'system',\n",
       "  'my',\n",
       "  'very',\n",
       "  'enough',\n",
       "  'mill',\n",
       "  'wherever',\n",
       "  'eleven',\n",
       "  'move',\n",
       "  'across'],\n",
       " 'multinomialnb__alpha': 0.1}"
      ]
     },
     "execution_count": 42,
     "metadata": {},
     "output_type": "execute_result"
    }
   ],
   "source": [
    "grid_bayes.best_params_"
   ]
  },
  {
   "cell_type": "code",
   "execution_count": 43,
   "metadata": {},
   "outputs": [
    {
     "data": {
      "text/plain": [
       "\"\\nmultinomialnb__alpha': 0.01\\ncountvectorizer__lowercase': True,\\ncountvectorizer__max_df': 0.5,\\ncountvectorizer__max_features': 5000,\\ncountvectorizer__min_df': 6,\\ncountvectorizer__ngram_range': (1, 2)\\n\""
      ]
     },
     "execution_count": 43,
     "metadata": {},
     "output_type": "execute_result"
    }
   ],
   "source": [
    "## Best Params\n",
    "\n",
    "\"\"\"\n",
    "multinomialnb__alpha': 0.01\n",
    "countvectorizer__lowercase': True,\n",
    "countvectorizer__max_df': 0.5,\n",
    "countvectorizer__max_features': 5000,\n",
    "countvectorizer__min_df': 6,\n",
    "countvectorizer__ngram_range': (1, 2)\n",
    "\"\"\"\n"
   ]
  },
  {
   "cell_type": "markdown",
   "metadata": {},
   "source": [
    "#### Create Predict"
   ]
  },
  {
   "cell_type": "code",
   "execution_count": 44,
   "metadata": {},
   "outputs": [],
   "source": [
    "y_preds = grid_bayes.predict(X_test)"
   ]
  },
  {
   "cell_type": "markdown",
   "metadata": {},
   "source": [
    "#### Accuracy Score"
   ]
  },
  {
   "cell_type": "code",
   "execution_count": 45,
   "metadata": {},
   "outputs": [
    {
     "data": {
      "text/plain": [
       "0.9771331058020478"
      ]
     },
     "execution_count": 45,
     "metadata": {},
     "output_type": "execute_result"
    }
   ],
   "source": [
    "accuracy_score(y_test, y_preds)"
   ]
  },
  {
   "cell_type": "markdown",
   "metadata": {},
   "source": [
    "#### Precision Score"
   ]
  },
  {
   "cell_type": "code",
   "execution_count": 46,
   "metadata": {},
   "outputs": [
    {
     "data": {
      "text/plain": [
       "0.9906272530641672"
      ]
     },
     "execution_count": 46,
     "metadata": {},
     "output_type": "execute_result"
    }
   ],
   "source": [
    "precision_score(y_test, y_preds)"
   ]
  },
  {
   "cell_type": "markdown",
   "metadata": {},
   "source": [
    "#### Graph of scores"
   ]
  },
  {
   "cell_type": "code",
   "execution_count": 49,
   "metadata": {},
   "outputs": [],
   "source": [
    "precision = precision_score(y_test, y_preds)*100\n",
    "accuracy = accuracy_score(y_test, y_preds)*100\n",
    "score = grid_bayes.score(X_test, y_test)*100"
   ]
  },
  {
   "cell_type": "code",
   "execution_count": 52,
   "metadata": {},
   "outputs": [
    {
     "data": {
      "image/png": "[encoded data removed]",
      "text/plain": [
       "<Figure size 648x432 with 1 Axes>"
      ]
     },
     "metadata": {
      "needs_background": "light"
     },
     "output_type": "display_data"
    }
   ],
   "source": [
    "\n",
    "plt.figure(figsize = (9,6))\n",
    "ax = sns.barplot(x = ['Accuracy','Precision'],\n",
    "            y = [score,precision], \n",
    "            #hue =['StarWars','StarWars','StarTrek','StarTrek'],\n",
    "            palette='cubehelix');\n"
   ]
  },
  {
   "cell_type": "code",
   "execution_count": 53,
   "metadata": {},
   "outputs": [
    {
     "data": {
      "image/png": "[encoded data removed]",
      "text/plain": [
       "<Figure size 648x432 with 1 Axes>"
      ]
     },
     "metadata": {
      "needs_background": "light"
     },
     "output_type": "display_data"
    }
   ],
   "source": [
    "\n",
    "plt.figure(figsize = (9,6))\n",
    "ax = sns.barplot(x = ['Accuracy', 'Precision'],\n",
    "            y = [score,precision], \n",
    "            #hue =['StarWars','StarWars','StarTrek','StarTrek'],\n",
    "            palette='cubehelix');\n",
    "\n",
    "for p in ax.patches:\n",
    "    ax.annotate(format(p.get_height(), '.2f'),\n",
    "                  (p.get_x()+ p.get_width() / 2., p.get_height()),\n",
    "                  ha = 'center', va = 'center',\n",
    "                  xytext = (0,9),\n",
    "                  textcoords = 'offset points')\n",
    "sns.set_style(\"dark\")\n",
    "plt.xlabel(\"Scores\", size=15)\n",
    "plt.ylabel(\"%\", size=15)\n",
    "plt.title(\"Final scores\", size=18)\n",
    "plt.savefig(\"../clean_data/final_scores\", dpi=100);\n"
   ]
  },
  {
   "cell_type": "markdown",
   "metadata": {},
   "source": [
    "#### Create confusion Matrix"
   ]
  },
  {
   "cell_type": "code",
   "execution_count": 54,
   "metadata": {},
   "outputs": [
    {
     "data": {
      "image/png": "[encoded data removed]",
      "text/plain": [
       "<Figure size 432x288 with 2 Axes>"
      ]
     },
     "metadata": {},
     "output_type": "display_data"
    }
   ],
   "source": [
    "plot_confusion_matrix(grid_bayes, X_test, y_test, cmap='Blues', values_format='d');"
   ]
  },
  {
   "cell_type": "code",
   "execution_count": 55,
   "metadata": {},
   "outputs": [],
   "source": [
    "# Calculate the specificity\n",
    "tn, fp, fn, tp = confusion_matrix(y_test, y_preds).ravel()"
   ]
  },
  {
   "cell_type": "code",
   "execution_count": 56,
   "metadata": {},
   "outputs": [
    {
     "data": {
      "text/plain": [
       "1489"
      ]
     },
     "execution_count": 56,
     "metadata": {},
     "output_type": "execute_result"
    }
   ],
   "source": [
    "tn"
   ]
  },
  {
   "cell_type": "code",
   "execution_count": 57,
   "metadata": {},
   "outputs": [
    {
     "data": {
      "text/plain": [
       "13"
      ]
     },
     "execution_count": 57,
     "metadata": {},
     "output_type": "execute_result"
    }
   ],
   "source": [
    "fp"
   ]
  },
  {
   "cell_type": "code",
   "execution_count": 58,
   "metadata": {},
   "outputs": [
    {
     "data": {
      "text/plain": [
       "54"
      ]
     },
     "execution_count": 58,
     "metadata": {},
     "output_type": "execute_result"
    }
   ],
   "source": [
    "fn"
   ]
  },
  {
   "cell_type": "code",
   "execution_count": 59,
   "metadata": {},
   "outputs": [
    {
     "data": {
      "text/plain": [
       "1374"
      ]
     },
     "execution_count": 59,
     "metadata": {},
     "output_type": "execute_result"
    }
   ],
   "source": [
    "tp"
   ]
  },
  {
   "cell_type": "markdown",
   "metadata": {},
   "source": [
    "#### Create DF for most popular Word"
   ]
  },
  {
   "cell_type": "code",
   "execution_count": 67,
   "metadata": {},
   "outputs": [],
   "source": [
    "feature_names = grid_bayes.best_estimator_.named_steps['countvectorizer'].get_feature_names()"
   ]
  },
  {
   "cell_type": "code",
   "execution_count": 68,
   "metadata": {},
   "outputs": [],
   "source": [
    "vectored_data =grid_bayes.best_estimator_.named_steps['countvectorizer'].transform(X_train)"
   ]
  },
  {
   "cell_type": "code",
   "execution_count": 69,
   "metadata": {},
   "outputs": [],
   "source": [
    "cvect_X_train_df = pd.DataFrame(vectored_data.toarray(), columns=feature_names)"
   ]
  },
  {
   "cell_type": "code",
   "execution_count": 70,
   "metadata": {},
   "outputs": [
    {
     "data": {
      "text/plain": [
       "CountVectorizer(max_features=5000, min_df=10, ngram_range=(1, 2),\n",
       "                preprocessor=<function the_lem at 0x12df50a60>,\n",
       "                stop_words=['ourselves', 'last', 'we', 'everything', 'everyone',\n",
       "                            'whereby', 'whoever', 'upon', 'show', 'even',\n",
       "                            'twenty', 'whereupon', 'made', 'where', 'whenever',\n",
       "                            'cannot', 'interest', 'our', 'detail', 'see', 'u',\n",
       "                            'via', 'down', 'herself', 'themselves', 'with',\n",
       "                            'latter', 'one', 'ours', 'per', ...])"
      ]
     },
     "execution_count": 70,
     "metadata": {},
     "output_type": "execute_result"
    }
   ],
   "source": [
    "grid_bayes.best_estimator_.named_steps['countvectorizer']"
   ]
  },
  {
   "cell_type": "code",
   "execution_count": 72,
   "metadata": {},
   "outputs": [
    {
     "data": {
      "text/html": [
       "<div>\n",
       "<style scoped>\n",
       "    .dataframe tbody tr th:only-of-type {\n",
       "        vertical-align: middle;\n",
       "    }\n",
       "\n",
       "    .dataframe tbody tr th {\n",
       "        vertical-align: top;\n",
       "    }\n",
       "\n",
       "    .dataframe thead th {\n",
       "        text-align: right;\n",
       "    }\n",
       "</style>\n",
       "<table border=\"1\" class=\"dataframe\">\n",
       "  <thead>\n",
       "    <tr style=\"text-align: right;\">\n",
       "      <th></th>\n",
       "      <th>00</th>\n",
       "      <th>000</th>\n",
       "      <th>01</th>\n",
       "      <th>03</th>\n",
       "      <th>05</th>\n",
       "      <th>07</th>\n",
       "      <th>08</th>\n",
       "      <th>09</th>\n",
       "      <th>10</th>\n",
       "      <th>10 year</th>\n",
       "      <th>...</th>\n",
       "      <th>younglings</th>\n",
       "      <th>youth</th>\n",
       "      <th>youtu</th>\n",
       "      <th>youtube</th>\n",
       "      <th>youtube channel</th>\n",
       "      <th>youtube video</th>\n",
       "      <th>youtube watch</th>\n",
       "      <th>zahn</th>\n",
       "      <th>zero</th>\n",
       "      <th>zone</th>\n",
       "    </tr>\n",
       "  </thead>\n",
       "  <tbody>\n",
       "    <tr>\n",
       "      <th>0</th>\n",
       "      <td>0</td>\n",
       "      <td>0</td>\n",
       "      <td>0</td>\n",
       "      <td>0</td>\n",
       "      <td>0</td>\n",
       "      <td>0</td>\n",
       "      <td>0</td>\n",
       "      <td>0</td>\n",
       "      <td>0</td>\n",
       "      <td>0</td>\n",
       "      <td>...</td>\n",
       "      <td>0</td>\n",
       "      <td>0</td>\n",
       "      <td>0</td>\n",
       "      <td>0</td>\n",
       "      <td>0</td>\n",
       "      <td>0</td>\n",
       "      <td>0</td>\n",
       "      <td>0</td>\n",
       "      <td>0</td>\n",
       "      <td>0</td>\n",
       "    </tr>\n",
       "    <tr>\n",
       "      <th>1</th>\n",
       "      <td>0</td>\n",
       "      <td>0</td>\n",
       "      <td>0</td>\n",
       "      <td>0</td>\n",
       "      <td>0</td>\n",
       "      <td>0</td>\n",
       "      <td>0</td>\n",
       "      <td>0</td>\n",
       "      <td>0</td>\n",
       "      <td>0</td>\n",
       "      <td>...</td>\n",
       "      <td>0</td>\n",
       "      <td>0</td>\n",
       "      <td>0</td>\n",
       "      <td>0</td>\n",
       "      <td>0</td>\n",
       "      <td>0</td>\n",
       "      <td>0</td>\n",
       "      <td>0</td>\n",
       "      <td>0</td>\n",
       "      <td>0</td>\n",
       "    </tr>\n",
       "    <tr>\n",
       "      <th>2</th>\n",
       "      <td>0</td>\n",
       "      <td>0</td>\n",
       "      <td>0</td>\n",
       "      <td>0</td>\n",
       "      <td>0</td>\n",
       "      <td>0</td>\n",
       "      <td>0</td>\n",
       "      <td>0</td>\n",
       "      <td>0</td>\n",
       "      <td>0</td>\n",
       "      <td>...</td>\n",
       "      <td>0</td>\n",
       "      <td>0</td>\n",
       "      <td>0</td>\n",
       "      <td>0</td>\n",
       "      <td>0</td>\n",
       "      <td>0</td>\n",
       "      <td>0</td>\n",
       "      <td>0</td>\n",
       "      <td>0</td>\n",
       "      <td>0</td>\n",
       "    </tr>\n",
       "    <tr>\n",
       "      <th>3</th>\n",
       "      <td>0</td>\n",
       "      <td>0</td>\n",
       "      <td>0</td>\n",
       "      <td>0</td>\n",
       "      <td>0</td>\n",
       "      <td>0</td>\n",
       "      <td>0</td>\n",
       "      <td>0</td>\n",
       "      <td>0</td>\n",
       "      <td>0</td>\n",
       "      <td>...</td>\n",
       "      <td>0</td>\n",
       "      <td>0</td>\n",
       "      <td>0</td>\n",
       "      <td>0</td>\n",
       "      <td>0</td>\n",
       "      <td>0</td>\n",
       "      <td>0</td>\n",
       "      <td>0</td>\n",
       "      <td>0</td>\n",
       "      <td>0</td>\n",
       "    </tr>\n",
       "    <tr>\n",
       "      <th>4</th>\n",
       "      <td>0</td>\n",
       "      <td>0</td>\n",
       "      <td>0</td>\n",
       "      <td>0</td>\n",
       "      <td>0</td>\n",
       "      <td>0</td>\n",
       "      <td>0</td>\n",
       "      <td>0</td>\n",
       "      <td>0</td>\n",
       "      <td>0</td>\n",
       "      <td>...</td>\n",
       "      <td>0</td>\n",
       "      <td>0</td>\n",
       "      <td>0</td>\n",
       "      <td>0</td>\n",
       "      <td>0</td>\n",
       "      <td>0</td>\n",
       "      <td>0</td>\n",
       "      <td>0</td>\n",
       "      <td>0</td>\n",
       "      <td>0</td>\n",
       "    </tr>\n",
       "    <tr>\n",
       "      <th>...</th>\n",
       "      <td>...</td>\n",
       "      <td>...</td>\n",
       "      <td>...</td>\n",
       "      <td>...</td>\n",
       "      <td>...</td>\n",
       "      <td>...</td>\n",
       "      <td>...</td>\n",
       "      <td>...</td>\n",
       "      <td>...</td>\n",
       "      <td>...</td>\n",
       "      <td>...</td>\n",
       "      <td>...</td>\n",
       "      <td>...</td>\n",
       "      <td>...</td>\n",
       "      <td>...</td>\n",
       "      <td>...</td>\n",
       "      <td>...</td>\n",
       "      <td>...</td>\n",
       "      <td>...</td>\n",
       "      <td>...</td>\n",
       "      <td>...</td>\n",
       "    </tr>\n",
       "    <tr>\n",
       "      <th>8785</th>\n",
       "      <td>0</td>\n",
       "      <td>0</td>\n",
       "      <td>0</td>\n",
       "      <td>0</td>\n",
       "      <td>0</td>\n",
       "      <td>0</td>\n",
       "      <td>0</td>\n",
       "      <td>0</td>\n",
       "      <td>0</td>\n",
       "      <td>0</td>\n",
       "      <td>...</td>\n",
       "      <td>0</td>\n",
       "      <td>0</td>\n",
       "      <td>0</td>\n",
       "      <td>0</td>\n",
       "      <td>0</td>\n",
       "      <td>0</td>\n",
       "      <td>0</td>\n",
       "      <td>0</td>\n",
       "      <td>0</td>\n",
       "      <td>0</td>\n",
       "    </tr>\n",
       "    <tr>\n",
       "      <th>8786</th>\n",
       "      <td>0</td>\n",
       "      <td>0</td>\n",
       "      <td>0</td>\n",
       "      <td>0</td>\n",
       "      <td>0</td>\n",
       "      <td>0</td>\n",
       "      <td>0</td>\n",
       "      <td>0</td>\n",
       "      <td>0</td>\n",
       "      <td>0</td>\n",
       "      <td>...</td>\n",
       "      <td>0</td>\n",
       "      <td>0</td>\n",
       "      <td>2</td>\n",
       "      <td>0</td>\n",
       "      <td>0</td>\n",
       "      <td>0</td>\n",
       "      <td>0</td>\n",
       "      <td>0</td>\n",
       "      <td>0</td>\n",
       "      <td>0</td>\n",
       "    </tr>\n",
       "    <tr>\n",
       "      <th>8787</th>\n",
       "      <td>0</td>\n",
       "      <td>0</td>\n",
       "      <td>0</td>\n",
       "      <td>0</td>\n",
       "      <td>0</td>\n",
       "      <td>0</td>\n",
       "      <td>0</td>\n",
       "      <td>0</td>\n",
       "      <td>0</td>\n",
       "      <td>0</td>\n",
       "      <td>...</td>\n",
       "      <td>0</td>\n",
       "      <td>0</td>\n",
       "      <td>0</td>\n",
       "      <td>0</td>\n",
       "      <td>0</td>\n",
       "      <td>0</td>\n",
       "      <td>0</td>\n",
       "      <td>0</td>\n",
       "      <td>0</td>\n",
       "      <td>0</td>\n",
       "    </tr>\n",
       "    <tr>\n",
       "      <th>8788</th>\n",
       "      <td>0</td>\n",
       "      <td>0</td>\n",
       "      <td>0</td>\n",
       "      <td>0</td>\n",
       "      <td>0</td>\n",
       "      <td>0</td>\n",
       "      <td>0</td>\n",
       "      <td>0</td>\n",
       "      <td>0</td>\n",
       "      <td>0</td>\n",
       "      <td>...</td>\n",
       "      <td>0</td>\n",
       "      <td>0</td>\n",
       "      <td>0</td>\n",
       "      <td>0</td>\n",
       "      <td>0</td>\n",
       "      <td>0</td>\n",
       "      <td>0</td>\n",
       "      <td>0</td>\n",
       "      <td>0</td>\n",
       "      <td>0</td>\n",
       "    </tr>\n",
       "    <tr>\n",
       "      <th>8789</th>\n",
       "      <td>0</td>\n",
       "      <td>0</td>\n",
       "      <td>0</td>\n",
       "      <td>0</td>\n",
       "      <td>0</td>\n",
       "      <td>0</td>\n",
       "      <td>0</td>\n",
       "      <td>0</td>\n",
       "      <td>0</td>\n",
       "      <td>0</td>\n",
       "      <td>...</td>\n",
       "      <td>0</td>\n",
       "      <td>0</td>\n",
       "      <td>0</td>\n",
       "      <td>0</td>\n",
       "      <td>0</td>\n",
       "      <td>0</td>\n",
       "      <td>0</td>\n",
       "      <td>0</td>\n",
       "      <td>0</td>\n",
       "      <td>0</td>\n",
       "    </tr>\n",
       "  </tbody>\n",
       "</table>\n",
       "<p>8790 rows × 5000 columns</p>\n",
       "</div>"
      ],
      "text/plain": [
       "      00  000  01  03  05  07  08  09  10  10 year  ...  younglings  youth  \\\n",
       "0      0    0   0   0   0   0   0   0   0        0  ...           0      0   \n",
       "1      0    0   0   0   0   0   0   0   0        0  ...           0      0   \n",
       "2      0    0   0   0   0   0   0   0   0        0  ...           0      0   \n",
       "3      0    0   0   0   0   0   0   0   0        0  ...           0      0   \n",
       "4      0    0   0   0   0   0   0   0   0        0  ...           0      0   \n",
       "...   ..  ...  ..  ..  ..  ..  ..  ..  ..      ...  ...         ...    ...   \n",
       "8785   0    0   0   0   0   0   0   0   0        0  ...           0      0   \n",
       "8786   0    0   0   0   0   0   0   0   0        0  ...           0      0   \n",
       "8787   0    0   0   0   0   0   0   0   0        0  ...           0      0   \n",
       "8788   0    0   0   0   0   0   0   0   0        0  ...           0      0   \n",
       "8789   0    0   0   0   0   0   0   0   0        0  ...           0      0   \n",
       "\n",
       "      youtu  youtube  youtube channel  youtube video  youtube watch  zahn  \\\n",
       "0         0        0                0              0              0     0   \n",
       "1         0        0                0              0              0     0   \n",
       "2         0        0                0              0              0     0   \n",
       "3         0        0                0              0              0     0   \n",
       "4         0        0                0              0              0     0   \n",
       "...     ...      ...              ...            ...            ...   ...   \n",
       "8785      0        0                0              0              0     0   \n",
       "8786      2        0                0              0              0     0   \n",
       "8787      0        0                0              0              0     0   \n",
       "8788      0        0                0              0              0     0   \n",
       "8789      0        0                0              0              0     0   \n",
       "\n",
       "      zero  zone  \n",
       "0        0     0  \n",
       "1        0     0  \n",
       "2        0     0  \n",
       "3        0     0  \n",
       "4        0     0  \n",
       "...    ...   ...  \n",
       "8785     0     0  \n",
       "8786     0     0  \n",
       "8787     0     0  \n",
       "8788     0     0  \n",
       "8789     0     0  \n",
       "\n",
       "[8790 rows x 5000 columns]"
      ]
     },
     "execution_count": 72,
     "metadata": {},
     "output_type": "execute_result"
    }
   ],
   "source": [
    "cvect_X_train_df"
   ]
  },
  {
   "cell_type": "code",
   "execution_count": 73,
   "metadata": {},
   "outputs": [],
   "source": [
    "# Creaticvect_X_train_dfng top word use DataFrame for graphs\n",
    "\n",
    "cvect_X_train_df['reddit'] = y_train"
   ]
  },
  {
   "cell_type": "code",
   "execution_count": 74,
   "metadata": {},
   "outputs": [
    {
     "data": {
      "text/html": [
       "<div>\n",
       "<style scoped>\n",
       "    .dataframe tbody tr th:only-of-type {\n",
       "        vertical-align: middle;\n",
       "    }\n",
       "\n",
       "    .dataframe tbody tr th {\n",
       "        vertical-align: top;\n",
       "    }\n",
       "\n",
       "    .dataframe thead th {\n",
       "        text-align: right;\n",
       "    }\n",
       "</style>\n",
       "<table border=\"1\" class=\"dataframe\">\n",
       "  <thead>\n",
       "    <tr style=\"text-align: right;\">\n",
       "      <th>reddit</th>\n",
       "      <th>0</th>\n",
       "      <th>1</th>\n",
       "    </tr>\n",
       "  </thead>\n",
       "  <tbody>\n",
       "    <tr>\n",
       "      <th>00</th>\n",
       "      <td>27</td>\n",
       "      <td>1</td>\n",
       "    </tr>\n",
       "    <tr>\n",
       "      <th>000</th>\n",
       "      <td>27</td>\n",
       "      <td>41</td>\n",
       "    </tr>\n",
       "    <tr>\n",
       "      <th>01</th>\n",
       "      <td>33</td>\n",
       "      <td>6</td>\n",
       "    </tr>\n",
       "    <tr>\n",
       "      <th>03</th>\n",
       "      <td>12</td>\n",
       "      <td>8</td>\n",
       "    </tr>\n",
       "    <tr>\n",
       "      <th>05</th>\n",
       "      <td>16</td>\n",
       "      <td>9</td>\n",
       "    </tr>\n",
       "    <tr>\n",
       "      <th>...</th>\n",
       "      <td>...</td>\n",
       "      <td>...</td>\n",
       "    </tr>\n",
       "    <tr>\n",
       "      <th>youtube video</th>\n",
       "      <td>6</td>\n",
       "      <td>10</td>\n",
       "    </tr>\n",
       "    <tr>\n",
       "      <th>youtube watch</th>\n",
       "      <td>117</td>\n",
       "      <td>120</td>\n",
       "    </tr>\n",
       "    <tr>\n",
       "      <th>zahn</th>\n",
       "      <td>0</td>\n",
       "      <td>17</td>\n",
       "    </tr>\n",
       "    <tr>\n",
       "      <th>zero</th>\n",
       "      <td>35</td>\n",
       "      <td>12</td>\n",
       "    </tr>\n",
       "    <tr>\n",
       "      <th>zone</th>\n",
       "      <td>36</td>\n",
       "      <td>7</td>\n",
       "    </tr>\n",
       "  </tbody>\n",
       "</table>\n",
       "<p>5000 rows × 2 columns</p>\n",
       "</div>"
      ],
      "text/plain": [
       "reddit           0    1\n",
       "00              27    1\n",
       "000             27   41\n",
       "01              33    6\n",
       "03              12    8\n",
       "05              16    9\n",
       "...            ...  ...\n",
       "youtube video    6   10\n",
       "youtube watch  117  120\n",
       "zahn             0   17\n",
       "zero            35   12\n",
       "zone            36    7\n",
       "\n",
       "[5000 rows x 2 columns]"
      ]
     },
     "execution_count": 74,
     "metadata": {},
     "output_type": "execute_result"
    }
   ],
   "source": [
    "cvect_X_train_df.groupby('reddit').sum().T"
   ]
  },
  {
   "cell_type": "code",
   "execution_count": 75,
   "metadata": {},
   "outputs": [],
   "source": [
    "most_common_word = cvect_X_train_df.groupby('reddit').sum().T\n",
    "most_common_words = most_common_word.copy()\n",
    "most_common_words[0]  = most_common_words[0] * -1"
   ]
  },
  {
   "cell_type": "code",
   "execution_count": 76,
   "metadata": {},
   "outputs": [],
   "source": [
    "# checking for extra stop words \n",
    "#\n",
    "\n",
    "# most_common_word.nlargest(99, 1)"
   ]
  },
  {
   "cell_type": "code",
   "execution_count": 77,
   "metadata": {},
   "outputs": [
    {
     "data": {
      "text/html": [
       "<div>\n",
       "<style scoped>\n",
       "    .dataframe tbody tr th:only-of-type {\n",
       "        vertical-align: middle;\n",
       "    }\n",
       "\n",
       "    .dataframe tbody tr th {\n",
       "        vertical-align: top;\n",
       "    }\n",
       "\n",
       "    .dataframe thead th {\n",
       "        text-align: right;\n",
       "    }\n",
       "</style>\n",
       "<table border=\"1\" class=\"dataframe\">\n",
       "  <thead>\n",
       "    <tr style=\"text-align: right;\">\n",
       "      <th>reddit</th>\n",
       "      <th>0</th>\n",
       "      <th>1</th>\n",
       "    </tr>\n",
       "  </thead>\n",
       "  <tbody>\n",
       "    <tr>\n",
       "      <th>war</th>\n",
       "      <td>427</td>\n",
       "      <td>3102</td>\n",
       "    </tr>\n",
       "    <tr>\n",
       "      <th>star</th>\n",
       "      <td>3464</td>\n",
       "      <td>2976</td>\n",
       "    </tr>\n",
       "    <tr>\n",
       "      <th>like</th>\n",
       "      <td>2748</td>\n",
       "      <td>2461</td>\n",
       "    </tr>\n",
       "    <tr>\n",
       "      <th>clone</th>\n",
       "      <td>30</td>\n",
       "      <td>2344</td>\n",
       "    </tr>\n",
       "    <tr>\n",
       "      <th>just</th>\n",
       "      <td>2840</td>\n",
       "      <td>2295</td>\n",
       "    </tr>\n",
       "    <tr>\n",
       "      <th>jedi</th>\n",
       "      <td>3</td>\n",
       "      <td>2157</td>\n",
       "    </tr>\n",
       "    <tr>\n",
       "      <th>star war</th>\n",
       "      <td>67</td>\n",
       "      <td>2148</td>\n",
       "    </tr>\n",
       "    <tr>\n",
       "      <th>anakin</th>\n",
       "      <td>0</td>\n",
       "      <td>1573</td>\n",
       "    </tr>\n",
       "    <tr>\n",
       "      <th>force</th>\n",
       "      <td>96</td>\n",
       "      <td>1506</td>\n",
       "    </tr>\n",
       "    <tr>\n",
       "      <th>know</th>\n",
       "      <td>1381</td>\n",
       "      <td>1417</td>\n",
       "    </tr>\n",
       "    <tr>\n",
       "      <th>think</th>\n",
       "      <td>1436</td>\n",
       "      <td>1367</td>\n",
       "    </tr>\n",
       "    <tr>\n",
       "      <th>movie</th>\n",
       "      <td>611</td>\n",
       "      <td>1359</td>\n",
       "    </tr>\n",
       "    <tr>\n",
       "      <th>luke</th>\n",
       "      <td>2</td>\n",
       "      <td>1319</td>\n",
       "    </tr>\n",
       "    <tr>\n",
       "      <th>https</th>\n",
       "      <td>1323</td>\n",
       "      <td>1193</td>\n",
       "    </tr>\n",
       "    <tr>\n",
       "      <th>order</th>\n",
       "      <td>294</td>\n",
       "      <td>1173</td>\n",
       "    </tr>\n",
       "    <tr>\n",
       "      <th>time</th>\n",
       "      <td>1816</td>\n",
       "      <td>1060</td>\n",
       "    </tr>\n",
       "    <tr>\n",
       "      <th>new</th>\n",
       "      <td>967</td>\n",
       "      <td>1025</td>\n",
       "    </tr>\n",
       "    <tr>\n",
       "      <th>poll</th>\n",
       "      <td>100</td>\n",
       "      <td>1024</td>\n",
       "    </tr>\n",
       "    <tr>\n",
       "      <th>amp</th>\n",
       "      <td>645</td>\n",
       "      <td>1012</td>\n",
       "    </tr>\n",
       "    <tr>\n",
       "      <th>really</th>\n",
       "      <td>1277</td>\n",
       "      <td>934</td>\n",
       "    </tr>\n",
       "    <tr>\n",
       "      <th>character</th>\n",
       "      <td>1154</td>\n",
       "      <td>930</td>\n",
       "    </tr>\n",
       "    <tr>\n",
       "      <th>make</th>\n",
       "      <td>963</td>\n",
       "      <td>926</td>\n",
       "    </tr>\n",
       "    <tr>\n",
       "      <th>sith</th>\n",
       "      <td>0</td>\n",
       "      <td>894</td>\n",
       "    </tr>\n",
       "    <tr>\n",
       "      <th>trooper</th>\n",
       "      <td>1</td>\n",
       "      <td>880</td>\n",
       "    </tr>\n",
       "    <tr>\n",
       "      <th>did</th>\n",
       "      <td>873</td>\n",
       "      <td>876</td>\n",
       "    </tr>\n",
       "  </tbody>\n",
       "</table>\n",
       "</div>"
      ],
      "text/plain": [
       "reddit        0     1\n",
       "war         427  3102\n",
       "star       3464  2976\n",
       "like       2748  2461\n",
       "clone        30  2344\n",
       "just       2840  2295\n",
       "jedi          3  2157\n",
       "star war     67  2148\n",
       "anakin        0  1573\n",
       "force        96  1506\n",
       "know       1381  1417\n",
       "think      1436  1367\n",
       "movie       611  1359\n",
       "luke          2  1319\n",
       "https      1323  1193\n",
       "order       294  1173\n",
       "time       1816  1060\n",
       "new         967  1025\n",
       "poll        100  1024\n",
       "amp         645  1012\n",
       "really     1277   934\n",
       "character  1154   930\n",
       "make        963   926\n",
       "sith          0   894\n",
       "trooper       1   880\n",
       "did         873   876"
      ]
     },
     "execution_count": 77,
     "metadata": {},
     "output_type": "execute_result"
    }
   ],
   "source": [
    "most_common_word.nlargest(25, 1)"
   ]
  },
  {
   "cell_type": "markdown",
   "metadata": {},
   "source": [
    "--- "
   ]
  },
  {
   "cell_type": "code",
   "execution_count": 78,
   "metadata": {},
   "outputs": [],
   "source": [
    "most_common_wordss = most_common_words.reset_index()\n",
    "# most_common_wordss"
   ]
  },
  {
   "cell_type": "code",
   "execution_count": 81,
   "metadata": {},
   "outputs": [
    {
     "data": {
      "image/png": "[encoded data removed]",
      "text/plain": [
       "<Figure size 1656x720 with 1 Axes>"
      ]
     },
     "metadata": {},
     "output_type": "display_data"
    }
   ],
   "source": [
    "plt.figure(figsize=(23,10))\n",
    "sns.set_style(\"darkgrid\")\n",
    "words = sns.barplot(data=most_common_wordss.nlargest(57, 1), x='index',\n",
    "                    y=1, ci = 0, label = 'StarWars' , palette = 'hls' )\n",
    "words = sns.barplot(data=most_common_wordss.nlargest(57, 1), x='index',\n",
    "                    y=0, ci = 0, color = 'darkblue', label ='StarTrek' )\n",
    "\n",
    "words.set_xticklabels(words.get_xticklabels(), rotation=45, horizontalalignment='right', size = 17);\n",
    "\n",
    "plt.xlabel(\"Words\", size=21)\n",
    "plt.ylabel(\"Count\", size=21)\n",
    "plt.title(\"Top 57 most used Words in Starwars Subreddit & Their Usage in StarTrek\", size=18)\n",
    "plt.savefig(\"../clean_data/words2\", dpi=100);\n",
    "plt.legend(fontsize = '22');"
   ]
  },
  {
   "cell_type": "code",
   "execution_count": null,
   "metadata": {},
   "outputs": [],
   "source": []
  }
 ],
 "metadata": {
  "kernelspec": {
   "display_name": "Python 3",
   "language": "python",
   "name": "python3"
  },
  "language_info": {
   "codemirror_mode": {
    "name": "ipython",
    "version": 3
   },
   "file_extension": ".py",
   "mimetype": "text/x-python",
   "name": "python",
   "nbconvert_exporter": "python",
   "pygments_lexer": "ipython3",
   "version": "3.8.2"
  }
 },
 "nbformat": 4,
 "nbformat_minor": 4
}
