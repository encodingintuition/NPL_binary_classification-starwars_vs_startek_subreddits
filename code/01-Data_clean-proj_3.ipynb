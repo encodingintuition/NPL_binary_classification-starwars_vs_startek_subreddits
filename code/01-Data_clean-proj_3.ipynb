{
 "cells": [
  {
   "cell_type": "code",
   "execution_count": null,
   "metadata": {},
   "outputs": [],
   "source": []
  },
  {
   "cell_type": "code",
   "execution_count": null,
   "metadata": {},
   "outputs": [],
   "source": []
  },
  {
   "cell_type": "markdown",
   "metadata": {},
   "source": [
    "# Data - Import & Clean  -- Project III"
   ]
  },
  {
   "cell_type": "code",
   "execution_count": 4,
   "metadata": {},
   "outputs": [],
   "source": [
    "# Import Basics\n",
    "import numpy as np\n",
    "import pandas as pd\n",
    "\n",
    "#Import Visuals\n",
    "import matplotlib.pyplot as plt\n",
    "import seaborn as sns\n",
    "import missingno as msno\n",
    "\n",
    "# Import Linear Regression Algorithms\n",
    "from sklearn.linear_model import LinearRegression, Lasso, LassoCV ,Ridge, ElasticNet, LogisticRegression, RidgeCV\n",
    "from sklearn.neighbors import KNeighborsRegressor, KNeighborsClassifier\n",
    "\n",
    "\n",
    "# Import Optimization algorithms\n",
    "from sklearn.pipeline import make_pipeline, Pipeline\n",
    "from sklearn.svm import SVR\n",
    "\n",
    "# Import Data Processing\n",
    "from sklearn.model_selection import train_test_split, GridSearchCV\n",
    "from sklearn.preprocessing import StandardScaler, OneHotEncoder, OrdinalEncoder, PowerTransformer, PolynomialFeatures\n",
    "\n",
    "from sklearn.impute import KNNImputer\n",
    "from sklearn.impute import SimpleImputer\n",
    "from sklearn.compose import ColumnTransformer, make_column_transformer, make_column_selector\n",
    "\n",
    "# NPL \n",
    "from textblob import TextBlob\n",
    "from vaderSentiment.vaderSentiment import SentimentIntensityAnalyzer\n",
    "from sklearn.feature_extraction.text import CountVectorizer\n",
    "from nltk.stem import WordNetLemmatizer\n",
    "from nltk.stem.porter import PorterStemmer\n",
    "\n",
    "\n",
    "#scrapping \n",
    "import json\n",
    "\n",
    "#Import graphical user info\n",
    "from sklearn import set_config\n",
    "\n",
    "# Metrics\n",
    "from sklearn.metrics import accuracy_score, mean_squared_error\n",
    "from sklearn.metrics import mean_absolute_error"
   ]
  },
  {
   "cell_type": "markdown",
   "metadata": {},
   "source": [
    "#### Functions"
   ]
  },
  {
   "cell_type": "code",
   "execution_count": 5,
   "metadata": {},
   "outputs": [],
   "source": [
    "\"\"\"\n",
    "  Function to readin csv's and concat DataFrames\n",
    "  only use 1 - 9 csv files\n",
    "\"\"\" \n",
    "\n",
    "def reddit_sheet_concat(subreddit, num):\n",
    "    df = pd.DataFrame()\n",
    "    for u in range(1,num+1):\n",
    "        df_read = pd.read_csv('../Data/' + subreddit + '_00' + str(u) + '.csv')\n",
    "        df = pd.concat([df, df_read], ignore_index=True)\n",
    "    return df"
   ]
  },
  {
   "cell_type": "code",
   "execution_count": null,
   "metadata": {},
   "outputs": [],
   "source": []
  },
  {
   "cell_type": "markdown",
   "metadata": {},
   "source": [
    "# Data "
   ]
  },
  {
   "cell_type": "markdown",
   "metadata": {},
   "source": [
    "#### Creating DataFrame A & B"
   ]
  },
  {
   "cell_type": "code",
   "execution_count": 6,
   "metadata": {},
   "outputs": [],
   "source": [
    "# data was pulled from subreddits "
   ]
  },
  {
   "cell_type": "code",
   "execution_count": 7,
   "metadata": {},
   "outputs": [],
   "source": [
    "df_startrek = reddit_sheet_concat('startrek', 4)"
   ]
  },
  {
   "cell_type": "code",
   "execution_count": 8,
   "metadata": {},
   "outputs": [
    {
     "data": {
      "text/plain": [
       "(9000, 8)"
      ]
     },
     "execution_count": 8,
     "metadata": {},
     "output_type": "execute_result"
    }
   ],
   "source": [
    "df_startrek.shape"
   ]
  },
  {
   "cell_type": "code",
   "execution_count": 9,
   "metadata": {},
   "outputs": [],
   "source": [
    "df_starwars = reddit_sheet_concat('starwars', 9)"
   ]
  },
  {
   "cell_type": "code",
   "execution_count": 10,
   "metadata": {},
   "outputs": [
    {
     "data": {
      "text/plain": [
       "(23700, 8)"
      ]
     },
     "execution_count": 10,
     "metadata": {},
     "output_type": "execute_result"
    }
   ],
   "source": [
    "df_starwars.shape"
   ]
  },
  {
   "cell_type": "markdown",
   "metadata": {},
   "source": [
    "## Examining data"
   ]
  },
  {
   "cell_type": "code",
   "execution_count": 11,
   "metadata": {},
   "outputs": [
    {
     "data": {
      "text/plain": [
       "'\\n    We are examining each subredit separitly, to insure that \\n        there is enough clean data for each of the subreddits \\n'"
      ]
     },
     "execution_count": 11,
     "metadata": {},
     "output_type": "execute_result"
    }
   ],
   "source": [
    "\"\"\"\n",
    "    We are examining each subredit separitly, to insure that \n",
    "        there is enough clean data for each of the subreddits \n",
    "\"\"\"\n",
    "#"
   ]
  },
  {
   "cell_type": "markdown",
   "metadata": {},
   "source": [
    "#### lower case for title & selftext"
   ]
  },
  {
   "cell_type": "code",
   "execution_count": 12,
   "metadata": {},
   "outputs": [],
   "source": [
    "# converting title & selftext to lowercase str\n",
    "\n",
    "df_startrek['title'] = df_startrek['title'].str.lower()\n",
    "df_startrek['selftext'] = df_startrek['selftext'].str.lower()\n",
    "df_startrek['subreddit'] = df_startrek['subreddit'].str.lower()"
   ]
  },
  {
   "cell_type": "code",
   "execution_count": 13,
   "metadata": {},
   "outputs": [],
   "source": [
    "# converting title & selftext to lowercase str\n",
    "\n",
    "df_starwars['title'] = df_starwars['title'].str.lower()\n",
    "df_starwars['selftext'] = df_starwars['selftext'].str.lower()\n",
    "df_starwars['subreddit'] = df_starwars['subreddit'].str.lower()"
   ]
  },
  {
   "cell_type": "markdown",
   "metadata": {},
   "source": [
    "## Data clean StarTrek"
   ]
  },
  {
   "cell_type": "code",
   "execution_count": 14,
   "metadata": {},
   "outputs": [
    {
     "data": {
      "text/html": [
       "<div>\n",
       "<style scoped>\n",
       "    .dataframe tbody tr th:only-of-type {\n",
       "        vertical-align: middle;\n",
       "    }\n",
       "\n",
       "    .dataframe tbody tr th {\n",
       "        vertical-align: top;\n",
       "    }\n",
       "\n",
       "    .dataframe thead th {\n",
       "        text-align: right;\n",
       "    }\n",
       "</style>\n",
       "<table border=\"1\" class=\"dataframe\">\n",
       "  <thead>\n",
       "    <tr style=\"text-align: right;\">\n",
       "      <th></th>\n",
       "      <th>Unnamed: 0</th>\n",
       "      <th>title</th>\n",
       "      <th>created_utc</th>\n",
       "      <th>selftext</th>\n",
       "      <th>subreddit</th>\n",
       "      <th>author</th>\n",
       "      <th>media_only</th>\n",
       "      <th>permalink</th>\n",
       "    </tr>\n",
       "  </thead>\n",
       "  <tbody>\n",
       "    <tr>\n",
       "      <th>0</th>\n",
       "      <td>0</td>\n",
       "      <td>destination star trek london moves to 2021</td>\n",
       "      <td>1601386424</td>\n",
       "      <td>NaN</td>\n",
       "      <td>startrek</td>\n",
       "      <td>Arbiter82</td>\n",
       "      <td>False</td>\n",
       "      <td>/r/startrek/comments/j1za8t/destination_star_t...</td>\n",
       "    </tr>\n",
       "    <tr>\n",
       "      <th>1</th>\n",
       "      <td>1</td>\n",
       "      <td>a simple but terrifying prospect</td>\n",
       "      <td>1601384507</td>\n",
       "      <td>species 8472 who is assimilated into the borg.</td>\n",
       "      <td>startrek</td>\n",
       "      <td>endertribe</td>\n",
       "      <td>False</td>\n",
       "      <td>/r/startrek/comments/j1yr7w/a_simple_but_terri...</td>\n",
       "    </tr>\n",
       "    <tr>\n",
       "      <th>2</th>\n",
       "      <td>2</td>\n",
       "      <td>ambassador k'ehleyr is one of my favorite mino...</td>\n",
       "      <td>1601365300</td>\n",
       "      <td>she appeared in two tng episodes, but i do wis...</td>\n",
       "      <td>startrek</td>\n",
       "      <td>theYode</td>\n",
       "      <td>False</td>\n",
       "      <td>/r/startrek/comments/j1uqpt/ambassador_kehleyr...</td>\n",
       "    </tr>\n",
       "  </tbody>\n",
       "</table>\n",
       "</div>"
      ],
      "text/plain": [
       "   Unnamed: 0                                              title  created_utc  \\\n",
       "0           0         destination star trek london moves to 2021   1601386424   \n",
       "1           1                   a simple but terrifying prospect   1601384507   \n",
       "2           2  ambassador k'ehleyr is one of my favorite mino...   1601365300   \n",
       "\n",
       "                                            selftext subreddit      author  \\\n",
       "0                                                NaN  startrek   Arbiter82   \n",
       "1     species 8472 who is assimilated into the borg.  startrek  endertribe   \n",
       "2  she appeared in two tng episodes, but i do wis...  startrek     theYode   \n",
       "\n",
       "   media_only                                          permalink  \n",
       "0       False  /r/startrek/comments/j1za8t/destination_star_t...  \n",
       "1       False  /r/startrek/comments/j1yr7w/a_simple_but_terri...  \n",
       "2       False  /r/startrek/comments/j1uqpt/ambassador_kehleyr...  "
      ]
     },
     "execution_count": 14,
     "metadata": {},
     "output_type": "execute_result"
    }
   ],
   "source": [
    "df_startrek.head(3)"
   ]
  },
  {
   "cell_type": "markdown",
   "metadata": {},
   "source": [
    "#### Drop columns"
   ]
  },
  {
   "cell_type": "code",
   "execution_count": 15,
   "metadata": {},
   "outputs": [],
   "source": [
    "df_startrek.drop(columns = ['Unnamed: 0', 'created_utc','media_only','permalink'], axis = 1, inplace = True)"
   ]
  },
  {
   "cell_type": "code",
   "execution_count": 16,
   "metadata": {},
   "outputs": [
    {
     "name": "stdout",
     "output_type": "stream",
     "text": [
      "<class 'pandas.core.frame.DataFrame'>\n",
      "RangeIndex: 9000 entries, 0 to 8999\n",
      "Data columns (total 4 columns):\n",
      " #   Column     Non-Null Count  Dtype \n",
      "---  ------     --------------  ----- \n",
      " 0   title      9000 non-null   object\n",
      " 1   selftext   6585 non-null   object\n",
      " 2   subreddit  9000 non-null   object\n",
      " 3   author     9000 non-null   object\n",
      "dtypes: object(4)\n",
      "memory usage: 281.4+ KB\n"
     ]
    }
   ],
   "source": [
    "df_startrek.info()"
   ]
  },
  {
   "cell_type": "markdown",
   "metadata": {},
   "source": [
    "#### Drop NaN's"
   ]
  },
  {
   "cell_type": "code",
   "execution_count": 17,
   "metadata": {},
   "outputs": [
    {
     "data": {
      "text/plain": [
       "title           0\n",
       "selftext     2415\n",
       "subreddit       0\n",
       "author          0\n",
       "dtype: int64"
      ]
     },
     "execution_count": 17,
     "metadata": {},
     "output_type": "execute_result"
    }
   ],
   "source": [
    "df_startrek.isna().sum()"
   ]
  },
  {
   "cell_type": "code",
   "execution_count": 18,
   "metadata": {},
   "outputs": [],
   "source": [
    "# drop all NaN's\n",
    "df_startrek  = df_startrek.dropna() "
   ]
  },
  {
   "cell_type": "code",
   "execution_count": 19,
   "metadata": {},
   "outputs": [
    {
     "name": "stdout",
     "output_type": "stream",
     "text": [
      "<class 'pandas.core.frame.DataFrame'>\n",
      "Int64Index: 6585 entries, 1 to 8997\n",
      "Data columns (total 4 columns):\n",
      " #   Column     Non-Null Count  Dtype \n",
      "---  ------     --------------  ----- \n",
      " 0   title      6585 non-null   object\n",
      " 1   selftext   6585 non-null   object\n",
      " 2   subreddit  6585 non-null   object\n",
      " 3   author     6585 non-null   object\n",
      "dtypes: object(4)\n",
      "memory usage: 257.2+ KB\n"
     ]
    }
   ],
   "source": [
    "df_startrek.info()"
   ]
  },
  {
   "cell_type": "markdown",
   "metadata": {},
   "source": [
    "#### Removing '[deleted]' & '[removed]'"
   ]
  },
  {
   "cell_type": "code",
   "execution_count": 20,
   "metadata": {},
   "outputs": [
    {
     "data": {
      "text/plain": [
       "117"
      ]
     },
     "execution_count": 20,
     "metadata": {},
     "output_type": "execute_result"
    }
   ],
   "source": [
    "(df_startrek['selftext'] == '[deleted]').sum()"
   ]
  },
  {
   "cell_type": "code",
   "execution_count": 21,
   "metadata": {},
   "outputs": [
    {
     "data": {
      "text/plain": [
       "460"
      ]
     },
     "execution_count": 21,
     "metadata": {},
     "output_type": "execute_result"
    }
   ],
   "source": [
    "(df_startrek['selftext'] == '[removed]').sum()"
   ]
  },
  {
   "cell_type": "code",
   "execution_count": 22,
   "metadata": {},
   "outputs": [],
   "source": [
    "\"\"\"\n",
    "   count & delete rows that contain both '[deleted]' & '[removed]'\n",
    "\"\"\"\n",
    "\n",
    "df_startrek =df_startrek[df_startrek.selftext != '[deleted]']\n",
    "df_startrek = df_startrek[df_startrek.selftext != '[removed]']\n",
    "# check to make sure is 0 "
   ]
  },
  {
   "cell_type": "code",
   "execution_count": null,
   "metadata": {},
   "outputs": [],
   "source": []
  },
  {
   "cell_type": "code",
   "execution_count": 23,
   "metadata": {},
   "outputs": [],
   "source": [
    "# done with basic clean up df_startrek\n"
   ]
  },
  {
   "cell_type": "markdown",
   "metadata": {},
   "source": [
    "## Data clean starwars"
   ]
  },
  {
   "cell_type": "code",
   "execution_count": 24,
   "metadata": {},
   "outputs": [
    {
     "data": {
      "text/html": [
       "<div>\n",
       "<style scoped>\n",
       "    .dataframe tbody tr th:only-of-type {\n",
       "        vertical-align: middle;\n",
       "    }\n",
       "\n",
       "    .dataframe tbody tr th {\n",
       "        vertical-align: top;\n",
       "    }\n",
       "\n",
       "    .dataframe thead th {\n",
       "        text-align: right;\n",
       "    }\n",
       "</style>\n",
       "<table border=\"1\" class=\"dataframe\">\n",
       "  <thead>\n",
       "    <tr style=\"text-align: right;\">\n",
       "      <th></th>\n",
       "      <th>Unnamed: 0</th>\n",
       "      <th>title</th>\n",
       "      <th>created_utc</th>\n",
       "      <th>selftext</th>\n",
       "      <th>subreddit</th>\n",
       "      <th>author</th>\n",
       "      <th>media_only</th>\n",
       "      <th>permalink</th>\n",
       "    </tr>\n",
       "  </thead>\n",
       "  <tbody>\n",
       "    <tr>\n",
       "      <th>0</th>\n",
       "      <td>0</td>\n",
       "      <td>train yourself to let go of everything you fea...</td>\n",
       "      <td>1601386790</td>\n",
       "      <td>NaN</td>\n",
       "      <td>starwars</td>\n",
       "      <td>_ALL_WHITE_</td>\n",
       "      <td>False</td>\n",
       "      <td>/r/StarWars/comments/j1zdvk/train_yourself_to_...</td>\n",
       "    </tr>\n",
       "    <tr>\n",
       "      <th>1</th>\n",
       "      <td>1</td>\n",
       "      <td>what would have likely happened if obi-wan and...</td>\n",
       "      <td>1601386703</td>\n",
       "      <td>NaN</td>\n",
       "      <td>starwars</td>\n",
       "      <td>datmemesboi101</td>\n",
       "      <td>False</td>\n",
       "      <td>/r/StarWars/comments/j1zd1l/what_would_have_li...</td>\n",
       "    </tr>\n",
       "  </tbody>\n",
       "</table>\n",
       "</div>"
      ],
      "text/plain": [
       "   Unnamed: 0                                              title  created_utc  \\\n",
       "0           0  train yourself to let go of everything you fea...   1601386790   \n",
       "1           1  what would have likely happened if obi-wan and...   1601386703   \n",
       "\n",
       "  selftext subreddit          author  media_only  \\\n",
       "0      NaN  starwars     _ALL_WHITE_       False   \n",
       "1      NaN  starwars  datmemesboi101       False   \n",
       "\n",
       "                                           permalink  \n",
       "0  /r/StarWars/comments/j1zdvk/train_yourself_to_...  \n",
       "1  /r/StarWars/comments/j1zd1l/what_would_have_li...  "
      ]
     },
     "execution_count": 24,
     "metadata": {},
     "output_type": "execute_result"
    }
   ],
   "source": [
    "df_starwars.head(2)"
   ]
  },
  {
   "cell_type": "markdown",
   "metadata": {},
   "source": [
    "####  Drop columns"
   ]
  },
  {
   "cell_type": "code",
   "execution_count": 25,
   "metadata": {},
   "outputs": [],
   "source": [
    "# Drop columns\n",
    "\n",
    "df_starwars.drop(columns = ['Unnamed: 0', 'created_utc','media_only','permalink'], axis = 1, inplace = True)"
   ]
  },
  {
   "cell_type": "markdown",
   "metadata": {},
   "source": [
    "##### Remove NaN"
   ]
  },
  {
   "cell_type": "code",
   "execution_count": 26,
   "metadata": {},
   "outputs": [
    {
     "name": "stdout",
     "output_type": "stream",
     "text": [
      "<class 'pandas.core.frame.DataFrame'>\n",
      "RangeIndex: 23700 entries, 0 to 23699\n",
      "Data columns (total 4 columns):\n",
      " #   Column     Non-Null Count  Dtype \n",
      "---  ------     --------------  ----- \n",
      " 0   title      23700 non-null  object\n",
      " 1   selftext   8447 non-null   object\n",
      " 2   subreddit  23700 non-null  object\n",
      " 3   author     23700 non-null  object\n",
      "dtypes: object(4)\n",
      "memory usage: 740.8+ KB\n"
     ]
    }
   ],
   "source": [
    "df_starwars.info()"
   ]
  },
  {
   "cell_type": "code",
   "execution_count": 27,
   "metadata": {},
   "outputs": [],
   "source": [
    "df_starwars = df_starwars.dropna()"
   ]
  },
  {
   "cell_type": "code",
   "execution_count": 28,
   "metadata": {},
   "outputs": [
    {
     "name": "stdout",
     "output_type": "stream",
     "text": [
      "<class 'pandas.core.frame.DataFrame'>\n",
      "Int64Index: 8447 entries, 5 to 23696\n",
      "Data columns (total 4 columns):\n",
      " #   Column     Non-Null Count  Dtype \n",
      "---  ------     --------------  ----- \n",
      " 0   title      8447 non-null   object\n",
      " 1   selftext   8447 non-null   object\n",
      " 2   subreddit  8447 non-null   object\n",
      " 3   author     8447 non-null   object\n",
      "dtypes: object(4)\n",
      "memory usage: 330.0+ KB\n"
     ]
    }
   ],
   "source": [
    "df_starwars.info()"
   ]
  },
  {
   "cell_type": "markdown",
   "metadata": {},
   "source": [
    "#### Remove [deleted] & [removed]"
   ]
  },
  {
   "cell_type": "code",
   "execution_count": 29,
   "metadata": {},
   "outputs": [
    {
     "data": {
      "text/plain": [
       "588"
      ]
     },
     "execution_count": 29,
     "metadata": {},
     "output_type": "execute_result"
    }
   ],
   "source": [
    "(df_starwars['selftext'] == '[deleted]').sum()\n"
   ]
  },
  {
   "cell_type": "code",
   "execution_count": 30,
   "metadata": {},
   "outputs": [
    {
     "data": {
      "text/plain": [
       "2147"
      ]
     },
     "execution_count": 30,
     "metadata": {},
     "output_type": "execute_result"
    }
   ],
   "source": [
    "(df_starwars['selftext'] == '[removed]').sum()"
   ]
  },
  {
   "cell_type": "code",
   "execution_count": 31,
   "metadata": {},
   "outputs": [],
   "source": [
    "\"\"\"\n",
    "   count & delete rows that contain both '[deleted]' & '[removed]'\n",
    "\"\"\"\n",
    "\n",
    "df_starwars = df_starwars[df_starwars.selftext != '[deleted]']\n",
    "df_starwars = df_starwars[df_starwars.selftext != '[removed]']\n",
    "# check to make sure is 0 \n"
   ]
  },
  {
   "cell_type": "code",
   "execution_count": 32,
   "metadata": {},
   "outputs": [
    {
     "data": {
      "text/html": [
       "<div>\n",
       "<style scoped>\n",
       "    .dataframe tbody tr th:only-of-type {\n",
       "        vertical-align: middle;\n",
       "    }\n",
       "\n",
       "    .dataframe tbody tr th {\n",
       "        vertical-align: top;\n",
       "    }\n",
       "\n",
       "    .dataframe thead th {\n",
       "        text-align: right;\n",
       "    }\n",
       "</style>\n",
       "<table border=\"1\" class=\"dataframe\">\n",
       "  <thead>\n",
       "    <tr style=\"text-align: right;\">\n",
       "      <th></th>\n",
       "      <th>title</th>\n",
       "      <th>selftext</th>\n",
       "      <th>subreddit</th>\n",
       "      <th>author</th>\n",
       "    </tr>\n",
       "  </thead>\n",
       "  <tbody>\n",
       "    <tr>\n",
       "      <th>9814</th>\n",
       "      <td>what's the deal with \"big corellian ships\" use...</td>\n",
       "      <td>i know this has probably been asked before but...</td>\n",
       "      <td>starwars</td>\n",
       "      <td>Bootlebat</td>\n",
       "    </tr>\n",
       "    <tr>\n",
       "      <th>21808</th>\n",
       "      <td>kyber crystals</td>\n",
       "      <td>was ilum the only planet to harvest kyber crys...</td>\n",
       "      <td>starwars</td>\n",
       "      <td>jayalanisjr</td>\n",
       "    </tr>\n",
       "    <tr>\n",
       "      <th>10546</th>\n",
       "      <td>looking for minimalist posters/paintings</td>\n",
       "      <td>hi redditors.  i know you guys would have an a...</td>\n",
       "      <td>starwars</td>\n",
       "      <td>mandycomes</td>\n",
       "    </tr>\n",
       "    <tr>\n",
       "      <th>23647</th>\n",
       "      <td>what's your favorite main saga star wars movie?</td>\n",
       "      <td>[removed]\\n\\n[view poll](https://www.reddit.co...</td>\n",
       "      <td>starwars</td>\n",
       "      <td>DogLord8000</td>\n",
       "    </tr>\n",
       "    <tr>\n",
       "      <th>9548</th>\n",
       "      <td>sequels vs prequels</td>\n",
       "      <td>[removed]\\n\\n[view poll](https://www.reddit.co...</td>\n",
       "      <td>starwars</td>\n",
       "      <td>Lopesafas</td>\n",
       "    </tr>\n",
       "  </tbody>\n",
       "</table>\n",
       "</div>"
      ],
      "text/plain": [
       "                                                   title  \\\n",
       "9814   what's the deal with \"big corellian ships\" use...   \n",
       "21808                                     kyber crystals   \n",
       "10546           looking for minimalist posters/paintings   \n",
       "23647    what's your favorite main saga star wars movie?   \n",
       "9548                                 sequels vs prequels   \n",
       "\n",
       "                                                selftext subreddit  \\\n",
       "9814   i know this has probably been asked before but...  starwars   \n",
       "21808  was ilum the only planet to harvest kyber crys...  starwars   \n",
       "10546  hi redditors.  i know you guys would have an a...  starwars   \n",
       "23647  [removed]\\n\\n[view poll](https://www.reddit.co...  starwars   \n",
       "9548   [removed]\\n\\n[view poll](https://www.reddit.co...  starwars   \n",
       "\n",
       "            author  \n",
       "9814     Bootlebat  \n",
       "21808  jayalanisjr  \n",
       "10546   mandycomes  \n",
       "23647  DogLord8000  \n",
       "9548     Lopesafas  "
      ]
     },
     "execution_count": 32,
     "metadata": {},
     "output_type": "execute_result"
    }
   ],
   "source": [
    "df_starwars.sample(5)"
   ]
  },
  {
   "cell_type": "code",
   "execution_count": 33,
   "metadata": {},
   "outputs": [],
   "source": [
    "# done with basic clean up df_starwars"
   ]
  },
  {
   "cell_type": "markdown",
   "metadata": {},
   "source": [
    "## Concat to main dataset"
   ]
  },
  {
   "cell_type": "code",
   "execution_count": 34,
   "metadata": {},
   "outputs": [
    {
     "data": {
      "text/plain": [
       "(5712, 4)"
      ]
     },
     "execution_count": 34,
     "metadata": {},
     "output_type": "execute_result"
    }
   ],
   "source": [
    "df_starwars.shape"
   ]
  },
  {
   "cell_type": "code",
   "execution_count": 35,
   "metadata": {},
   "outputs": [
    {
     "data": {
      "text/plain": [
       "(6008, 4)"
      ]
     },
     "execution_count": 35,
     "metadata": {},
     "output_type": "execute_result"
    }
   ],
   "source": [
    "df_startrek.shape"
   ]
  },
  {
   "cell_type": "code",
   "execution_count": 36,
   "metadata": {},
   "outputs": [],
   "source": [
    "df = pd.concat([df_starwars, df_startrek], ignore_index=True)"
   ]
  },
  {
   "cell_type": "code",
   "execution_count": 37,
   "metadata": {},
   "outputs": [
    {
     "data": {
      "text/plain": [
       "(11720, 4)"
      ]
     },
     "execution_count": 37,
     "metadata": {},
     "output_type": "execute_result"
    }
   ],
   "source": [
    "df.shape"
   ]
  },
  {
   "cell_type": "code",
   "execution_count": 38,
   "metadata": {},
   "outputs": [],
   "source": [
    "# reset index of dataframe\n",
    "df = df.reset_index(drop=True)"
   ]
  },
  {
   "cell_type": "code",
   "execution_count": 39,
   "metadata": {},
   "outputs": [],
   "source": [
    "\"\"\"\n",
    "\"\"\"\n",
    "df['max_text']= [(title + ' ' + selftxt)  for title,selftxt in zip(df['title'] ,df['selftext'])]"
   ]
  },
  {
   "cell_type": "markdown",
   "metadata": {},
   "source": [
    "#### Last looks at data sheet before saving "
   ]
  },
  {
   "cell_type": "code",
   "execution_count": 40,
   "metadata": {},
   "outputs": [
    {
     "data": {
      "text/html": [
       "<div>\n",
       "<style scoped>\n",
       "    .dataframe tbody tr th:only-of-type {\n",
       "        vertical-align: middle;\n",
       "    }\n",
       "\n",
       "    .dataframe tbody tr th {\n",
       "        vertical-align: top;\n",
       "    }\n",
       "\n",
       "    .dataframe thead th {\n",
       "        text-align: right;\n",
       "    }\n",
       "</style>\n",
       "<table border=\"1\" class=\"dataframe\">\n",
       "  <thead>\n",
       "    <tr style=\"text-align: right;\">\n",
       "      <th></th>\n",
       "      <th>title</th>\n",
       "      <th>selftext</th>\n",
       "      <th>subreddit</th>\n",
       "      <th>author</th>\n",
       "      <th>max_text</th>\n",
       "    </tr>\n",
       "  </thead>\n",
       "  <tbody>\n",
       "    <tr>\n",
       "      <th>0</th>\n",
       "      <td>thoughts on jedi fallen order (ps4)</td>\n",
       "      <td>good morning (or evening, whichever),\\n\\nwhat ...</td>\n",
       "      <td>starwars</td>\n",
       "      <td>Gillbergs_Powerhour</td>\n",
       "      <td>thoughts on jedi fallen order (ps4) good morni...</td>\n",
       "    </tr>\n",
       "    <tr>\n",
       "      <th>1</th>\n",
       "      <td>mandalorian season 2 theory</td>\n",
       "      <td>i'm the only one who would like to see mace wi...</td>\n",
       "      <td>starwars</td>\n",
       "      <td>Oofboiiiiiiii</td>\n",
       "      <td>mandalorian season 2 theory i'm the only one w...</td>\n",
       "    </tr>\n",
       "    <tr>\n",
       "      <th>2</th>\n",
       "      <td>why did the st focus on the resistance instead...</td>\n",
       "      <td>how come the new republic was never really exp...</td>\n",
       "      <td>starwars</td>\n",
       "      <td>MajesticJazz</td>\n",
       "      <td>why did the st focus on the resistance instead...</td>\n",
       "    </tr>\n",
       "  </tbody>\n",
       "</table>\n",
       "</div>"
      ],
      "text/plain": [
       "                                               title  \\\n",
       "0                thoughts on jedi fallen order (ps4)   \n",
       "1                        mandalorian season 2 theory   \n",
       "2  why did the st focus on the resistance instead...   \n",
       "\n",
       "                                            selftext subreddit  \\\n",
       "0  good morning (or evening, whichever),\\n\\nwhat ...  starwars   \n",
       "1  i'm the only one who would like to see mace wi...  starwars   \n",
       "2  how come the new republic was never really exp...  starwars   \n",
       "\n",
       "                author                                           max_text  \n",
       "0  Gillbergs_Powerhour  thoughts on jedi fallen order (ps4) good morni...  \n",
       "1        Oofboiiiiiiii  mandalorian season 2 theory i'm the only one w...  \n",
       "2         MajesticJazz  why did the st focus on the resistance instead...  "
      ]
     },
     "execution_count": 40,
     "metadata": {},
     "output_type": "execute_result"
    }
   ],
   "source": [
    "df.head(3)"
   ]
  },
  {
   "cell_type": "markdown",
   "metadata": {},
   "source": [
    "## Saving clean Data"
   ]
  },
  {
   "cell_type": "code",
   "execution_count": 42,
   "metadata": {},
   "outputs": [],
   "source": [
    "df.to_csv('../clean_data/clean_data.csv',index=False)"
   ]
  },
  {
   "cell_type": "markdown",
   "metadata": {},
   "source": [
    "## ---------------------------------------------------------------------------"
   ]
  },
  {
   "cell_type": "markdown",
   "metadata": {},
   "source": [
    "## ---------------------------------------------------------------------------"
   ]
  },
  {
   "cell_type": "markdown",
   "metadata": {},
   "source": [
    "## EDA of data "
   ]
  },
  {
   "cell_type": "markdown",
   "metadata": {},
   "source": [
    "### Notes from data cleaning and EDA"
   ]
  },
  {
   "cell_type": "code",
   "execution_count": 45,
   "metadata": {},
   "outputs": [
    {
     "data": {
      "text/plain": [
       "\"\\n    During the cleaning of the data it was noticed that many of the reddit posts had \\n        a large number of NaN values with in its 'selfText tag'.  StarWars reddit had a \\n        proportionate number of NaN compared to starwars. \\n\""
      ]
     },
     "execution_count": 45,
     "metadata": {},
     "output_type": "execute_result"
    }
   ],
   "source": [
    "\"\"\"\n",
    "    During the cleaning of the data it was noticed that many of the reddit posts had \n",
    "        a large number of NaN values with in its 'selfText tag'.  StarWars reddit had a \n",
    "        proportionate number of NaN compared to starwars. \n",
    "\"\"\""
   ]
  },
  {
   "cell_type": "code",
   "execution_count": 46,
   "metadata": {},
   "outputs": [
    {
     "data": {
      "text/plain": [
       "\"\\n    During investigation we had found that a number of selftexts where '[deleted]' or '[removed]',\\n     - we deleted all instences of both '[deleted]' or '[removed]' to insure the our data was the most complete. \\n     - this cleaning was done separtly for both subreditts to insure that equal samples of each subredit was used.\\n\\n\""
      ]
     },
     "execution_count": 46,
     "metadata": {},
     "output_type": "execute_result"
    }
   ],
   "source": [
    "\"\"\"\n",
    "    During investigation we had found that a number of selftexts where '[deleted]' or '[removed]',\n",
    "     - we deleted all instences of both '[deleted]' or '[removed]' to insure the our data was the most complete. \n",
    "     - this cleaning was done separtly for both subreditts to insure that equal samples of each subredit was used.\n",
    "\n",
    "\"\"\""
   ]
  },
  {
   "cell_type": "code",
   "execution_count": 47,
   "metadata": {},
   "outputs": [
    {
     "data": {
      "text/plain": [
       "'\\n    By the time we ran our final models we had collected 237,000 StarWars subReddits of \\n        which 57,000 where complete to use within the model.\\n    By the time we ran our final model we had collected 90,000 Startrek subReddits of which \\n        60,000 where complete to use within the model.\\n'"
      ]
     },
     "execution_count": 47,
     "metadata": {},
     "output_type": "execute_result"
    }
   ],
   "source": [
    "\"\"\"\n",
    "    By the time we ran our final models we had collected 237,000 StarWars subReddits of \n",
    "        which 57,000 where complete to use within the model.\n",
    "    By the time we ran our final model we had collected 90,000 Startrek subReddits of which \n",
    "        60,000 where complete to use within the model.\n",
    "\"\"\"\n"
   ]
  },
  {
   "cell_type": "code",
   "execution_count": 49,
   "metadata": {
    "jupyter": {
     "source_hidden": true
    }
   },
   "outputs": [
    {
     "data": {
      "image/png": "[encoded data removed]",
      "text/plain": [
       "<Figure size 648x432 with 1 Axes>"
      ]
     },
     "metadata": {},
     "output_type": "display_data"
    }
   ],
   "source": [
    "\n",
    "plt.figure(figsize = (9,6))\n",
    "sns.barplot(x = ['Raw', 'Cleaned','Raw','Cleaned'],\n",
    "            y = [23700,5700,9000,6000], \n",
    "            hue =['StarWars','StarWars','StarTrek','StarTrek'],\n",
    "            palette='cubehelix');\n",
    "sns.set_style(\"dark\")\n",
    "plt.xlabel(\"Data\", size=15)\n",
    "plt.ylabel(\"# of SubReddits\", size=15)\n",
    "plt.title(\"Raw Data vs Used Data\", size=18)\n",
    "plt.savefig(\"../clean_data/Raw_Data_vs_Used_Data\", dpi=100);"
   ]
  },
  {
   "cell_type": "code",
   "execution_count": 50,
   "metadata": {},
   "outputs": [
    {
     "data": {
      "text/html": [
       "<div>\n",
       "<style scoped>\n",
       "    .dataframe tbody tr th:only-of-type {\n",
       "        vertical-align: middle;\n",
       "    }\n",
       "\n",
       "    .dataframe tbody tr th {\n",
       "        vertical-align: top;\n",
       "    }\n",
       "\n",
       "    .dataframe thead th {\n",
       "        text-align: right;\n",
       "    }\n",
       "</style>\n",
       "<table border=\"1\" class=\"dataframe\">\n",
       "  <thead>\n",
       "    <tr style=\"text-align: right;\">\n",
       "      <th></th>\n",
       "      <th>title</th>\n",
       "      <th>selftext</th>\n",
       "      <th>subreddit</th>\n",
       "      <th>author</th>\n",
       "      <th>max_text</th>\n",
       "    </tr>\n",
       "  </thead>\n",
       "  <tbody>\n",
       "    <tr>\n",
       "      <th>0</th>\n",
       "      <td>thoughts on jedi fallen order (ps4)</td>\n",
       "      <td>good morning (or evening, whichever),\\n\\nwhat ...</td>\n",
       "      <td>starwars</td>\n",
       "      <td>Gillbergs_Powerhour</td>\n",
       "      <td>thoughts on jedi fallen order (ps4) good morni...</td>\n",
       "    </tr>\n",
       "    <tr>\n",
       "      <th>1</th>\n",
       "      <td>mandalorian season 2 theory</td>\n",
       "      <td>i'm the only one who would like to see mace wi...</td>\n",
       "      <td>starwars</td>\n",
       "      <td>Oofboiiiiiiii</td>\n",
       "      <td>mandalorian season 2 theory i'm the only one w...</td>\n",
       "    </tr>\n",
       "    <tr>\n",
       "      <th>2</th>\n",
       "      <td>why did the st focus on the resistance instead...</td>\n",
       "      <td>how come the new republic was never really exp...</td>\n",
       "      <td>starwars</td>\n",
       "      <td>MajesticJazz</td>\n",
       "      <td>why did the st focus on the resistance instead...</td>\n",
       "    </tr>\n",
       "    <tr>\n",
       "      <th>3</th>\n",
       "      <td>why does r/sequelmemes hate sub wars so much?</td>\n",
       "      <td>r/prequelmemes and r/otmemes started a sub war...</td>\n",
       "      <td>starwars</td>\n",
       "      <td>Jrthndrlight</td>\n",
       "      <td>why does r/sequelmemes hate sub wars so much? ...</td>\n",
       "    </tr>\n",
       "    <tr>\n",
       "      <th>4</th>\n",
       "      <td>why i relate to finn so much right now</td>\n",
       "      <td>i was once part of the anti sjw, women bad par...</td>\n",
       "      <td>starwars</td>\n",
       "      <td>ProjectVisible5862</td>\n",
       "      <td>why i relate to finn so much right now i was o...</td>\n",
       "    </tr>\n",
       "  </tbody>\n",
       "</table>\n",
       "</div>"
      ],
      "text/plain": [
       "                                               title  \\\n",
       "0                thoughts on jedi fallen order (ps4)   \n",
       "1                        mandalorian season 2 theory   \n",
       "2  why did the st focus on the resistance instead...   \n",
       "3      why does r/sequelmemes hate sub wars so much?   \n",
       "4             why i relate to finn so much right now   \n",
       "\n",
       "                                            selftext subreddit  \\\n",
       "0  good morning (or evening, whichever),\\n\\nwhat ...  starwars   \n",
       "1  i'm the only one who would like to see mace wi...  starwars   \n",
       "2  how come the new republic was never really exp...  starwars   \n",
       "3  r/prequelmemes and r/otmemes started a sub war...  starwars   \n",
       "4  i was once part of the anti sjw, women bad par...  starwars   \n",
       "\n",
       "                author                                           max_text  \n",
       "0  Gillbergs_Powerhour  thoughts on jedi fallen order (ps4) good morni...  \n",
       "1        Oofboiiiiiiii  mandalorian season 2 theory i'm the only one w...  \n",
       "2         MajesticJazz  why did the st focus on the resistance instead...  \n",
       "3         Jrthndrlight  why does r/sequelmemes hate sub wars so much? ...  \n",
       "4   ProjectVisible5862  why i relate to finn so much right now i was o...  "
      ]
     },
     "execution_count": 50,
     "metadata": {},
     "output_type": "execute_result"
    }
   ],
   "source": [
    "df.head()"
   ]
  },
  {
   "cell_type": "code",
   "execution_count": 51,
   "metadata": {},
   "outputs": [
    {
     "data": {
      "text/html": [
       "<div>\n",
       "<style scoped>\n",
       "    .dataframe tbody tr th:only-of-type {\n",
       "        vertical-align: middle;\n",
       "    }\n",
       "\n",
       "    .dataframe tbody tr th {\n",
       "        vertical-align: top;\n",
       "    }\n",
       "\n",
       "    .dataframe thead th {\n",
       "        text-align: right;\n",
       "    }\n",
       "</style>\n",
       "<table border=\"1\" class=\"dataframe\">\n",
       "  <thead>\n",
       "    <tr style=\"text-align: right;\">\n",
       "      <th></th>\n",
       "      <th>title</th>\n",
       "      <th>selftext</th>\n",
       "      <th>subreddit</th>\n",
       "      <th>author</th>\n",
       "      <th>max_text</th>\n",
       "    </tr>\n",
       "  </thead>\n",
       "  <tbody>\n",
       "    <tr>\n",
       "      <th>10397</th>\n",
       "      <td>just finished star trek enterprise for the fir...</td>\n",
       "      <td>and let me say i loved it, but i hated the the...</td>\n",
       "      <td>startrek</td>\n",
       "      <td>PlumbusUser117</td>\n",
       "      <td>just finished star trek enterprise for the fir...</td>\n",
       "    </tr>\n",
       "    <tr>\n",
       "      <th>5320</th>\n",
       "      <td>which droid would make the best farmer?</td>\n",
       "      <td>i run a podcast about agriculture and what goe...</td>\n",
       "      <td>starwars</td>\n",
       "      <td>GambitBlack35</td>\n",
       "      <td>which droid would make the best farmer? i run ...</td>\n",
       "    </tr>\n",
       "    <tr>\n",
       "      <th>47</th>\n",
       "      <td>i'm still mad at how padme got screwed over in...</td>\n",
       "      <td>in the original version, she was supposed to b...</td>\n",
       "      <td>starwars</td>\n",
       "      <td>EquivalentInflation</td>\n",
       "      <td>i'm still mad at how padme got screwed over in...</td>\n",
       "    </tr>\n",
       "    <tr>\n",
       "      <th>3053</th>\n",
       "      <td>if a new movie franchise were to be set in the...</td>\n",
       "      <td>if this were the case, what would be your pref...</td>\n",
       "      <td>starwars</td>\n",
       "      <td>Clean_Elven_Arse</td>\n",
       "      <td>if a new movie franchise were to be set in the...</td>\n",
       "    </tr>\n",
       "    <tr>\n",
       "      <th>1526</th>\n",
       "      <td>which format would be best to portray the mand...</td>\n",
       "      <td>[removed]\\n\\n[view poll](https://www.reddit.co...</td>\n",
       "      <td>starwars</td>\n",
       "      <td>Wrighted-2000</td>\n",
       "      <td>which format would be best to portray the mand...</td>\n",
       "    </tr>\n",
       "  </tbody>\n",
       "</table>\n",
       "</div>"
      ],
      "text/plain": [
       "                                                   title  \\\n",
       "10397  just finished star trek enterprise for the fir...   \n",
       "5320             which droid would make the best farmer?   \n",
       "47     i'm still mad at how padme got screwed over in...   \n",
       "3053   if a new movie franchise were to be set in the...   \n",
       "1526   which format would be best to portray the mand...   \n",
       "\n",
       "                                                selftext subreddit  \\\n",
       "10397  and let me say i loved it, but i hated the the...  startrek   \n",
       "5320   i run a podcast about agriculture and what goe...  starwars   \n",
       "47     in the original version, she was supposed to b...  starwars   \n",
       "3053   if this were the case, what would be your pref...  starwars   \n",
       "1526   [removed]\\n\\n[view poll](https://www.reddit.co...  starwars   \n",
       "\n",
       "                    author                                           max_text  \n",
       "10397       PlumbusUser117  just finished star trek enterprise for the fir...  \n",
       "5320         GambitBlack35  which droid would make the best farmer? i run ...  \n",
       "47     EquivalentInflation  i'm still mad at how padme got screwed over in...  \n",
       "3053      Clean_Elven_Arse  if a new movie franchise were to be set in the...  \n",
       "1526         Wrighted-2000  which format would be best to portray the mand...  "
      ]
     },
     "execution_count": 51,
     "metadata": {},
     "output_type": "execute_result"
    }
   ],
   "source": [
    "df.sample(5)"
   ]
  },
  {
   "cell_type": "code",
   "execution_count": 52,
   "metadata": {},
   "outputs": [
    {
     "data": {
      "text/html": [
       "<div>\n",
       "<style scoped>\n",
       "    .dataframe tbody tr th:only-of-type {\n",
       "        vertical-align: middle;\n",
       "    }\n",
       "\n",
       "    .dataframe tbody tr th {\n",
       "        vertical-align: top;\n",
       "    }\n",
       "\n",
       "    .dataframe thead th {\n",
       "        text-align: right;\n",
       "    }\n",
       "</style>\n",
       "<table border=\"1\" class=\"dataframe\">\n",
       "  <thead>\n",
       "    <tr style=\"text-align: right;\">\n",
       "      <th></th>\n",
       "      <th>title</th>\n",
       "      <th>selftext</th>\n",
       "      <th>subreddit</th>\n",
       "      <th>author</th>\n",
       "      <th>max_text</th>\n",
       "    </tr>\n",
       "  </thead>\n",
       "  <tbody>\n",
       "    <tr>\n",
       "      <th>2513</th>\n",
       "      <td>i would like a different star wars show</td>\n",
       "      <td>the mandalorian is good, i just still crave to...</td>\n",
       "      <td>starwars</td>\n",
       "      <td>WholeLifeWasted</td>\n",
       "      <td>i would like a different star wars show the ma...</td>\n",
       "    </tr>\n",
       "    <tr>\n",
       "      <th>9674</th>\n",
       "      <td>gotta be honest, i realize that i after i watc...</td>\n",
       "      <td>reginald barclay is kinda relatable.</td>\n",
       "      <td>startrek</td>\n",
       "      <td>tugue</td>\n",
       "      <td>gotta be honest, i realize that i after i watc...</td>\n",
       "    </tr>\n",
       "    <tr>\n",
       "      <th>8595</th>\n",
       "      <td>thoughts on deep space 9</td>\n",
       "      <td>i finished binging deep space 9, prior to this...</td>\n",
       "      <td>startrek</td>\n",
       "      <td>Randothor</td>\n",
       "      <td>thoughts on deep space 9 i finished binging de...</td>\n",
       "    </tr>\n",
       "    <tr>\n",
       "      <th>813</th>\n",
       "      <td>help me find this old game i’m looking for please</td>\n",
       "      <td>it was an old star wars the clone wars game th...</td>\n",
       "      <td>starwars</td>\n",
       "      <td>Mustang302_</td>\n",
       "      <td>help me find this old game i’m looking for ple...</td>\n",
       "    </tr>\n",
       "    <tr>\n",
       "      <th>13</th>\n",
       "      <td>is luke skywalker an astronaut?</td>\n",
       "      <td>would you say luke, han, rey, obi wan are astr...</td>\n",
       "      <td>starwars</td>\n",
       "      <td>PresidentBoobs</td>\n",
       "      <td>is luke skywalker an astronaut? would you say ...</td>\n",
       "    </tr>\n",
       "  </tbody>\n",
       "</table>\n",
       "</div>"
      ],
      "text/plain": [
       "                                                  title  \\\n",
       "2513            i would like a different star wars show   \n",
       "9674  gotta be honest, i realize that i after i watc...   \n",
       "8595                           thoughts on deep space 9   \n",
       "813   help me find this old game i’m looking for please   \n",
       "13                      is luke skywalker an astronaut?   \n",
       "\n",
       "                                               selftext subreddit  \\\n",
       "2513  the mandalorian is good, i just still crave to...  starwars   \n",
       "9674               reginald barclay is kinda relatable.  startrek   \n",
       "8595  i finished binging deep space 9, prior to this...  startrek   \n",
       "813   it was an old star wars the clone wars game th...  starwars   \n",
       "13    would you say luke, han, rey, obi wan are astr...  starwars   \n",
       "\n",
       "               author                                           max_text  \n",
       "2513  WholeLifeWasted  i would like a different star wars show the ma...  \n",
       "9674            tugue  gotta be honest, i realize that i after i watc...  \n",
       "8595        Randothor  thoughts on deep space 9 i finished binging de...  \n",
       "813       Mustang302_  help me find this old game i’m looking for ple...  \n",
       "13     PresidentBoobs  is luke skywalker an astronaut? would you say ...  "
      ]
     },
     "execution_count": 52,
     "metadata": {},
     "output_type": "execute_result"
    }
   ],
   "source": [
    "df.sample(5)"
   ]
  },
  {
   "cell_type": "code",
   "execution_count": 53,
   "metadata": {},
   "outputs": [
    {
     "data": {
      "text/html": [
       "<div>\n",
       "<style scoped>\n",
       "    .dataframe tbody tr th:only-of-type {\n",
       "        vertical-align: middle;\n",
       "    }\n",
       "\n",
       "    .dataframe tbody tr th {\n",
       "        vertical-align: top;\n",
       "    }\n",
       "\n",
       "    .dataframe thead th {\n",
       "        text-align: right;\n",
       "    }\n",
       "</style>\n",
       "<table border=\"1\" class=\"dataframe\">\n",
       "  <thead>\n",
       "    <tr style=\"text-align: right;\">\n",
       "      <th></th>\n",
       "      <th>title</th>\n",
       "      <th>selftext</th>\n",
       "      <th>subreddit</th>\n",
       "      <th>author</th>\n",
       "      <th>max_text</th>\n",
       "    </tr>\n",
       "  </thead>\n",
       "  <tbody>\n",
       "    <tr>\n",
       "      <th>3157</th>\n",
       "      <td>maul and savage</td>\n",
       "      <td>always thought it was dumb when obi-wan saw sa...</td>\n",
       "      <td>starwars</td>\n",
       "      <td>cherri-popp-er</td>\n",
       "      <td>maul and savage always thought it was dumb whe...</td>\n",
       "    </tr>\n",
       "    <tr>\n",
       "      <th>11167</th>\n",
       "      <td>a lifelong fan's take on st: picard</td>\n",
       "      <td>\\ni have been a loyal and loving star trek fan...</td>\n",
       "      <td>startrek</td>\n",
       "      <td>Victorian_Astronaut</td>\n",
       "      <td>a lifelong fan's take on st: picard \\ni have b...</td>\n",
       "    </tr>\n",
       "    <tr>\n",
       "      <th>9628</th>\n",
       "      <td>watching enterprise again and i forgot so many...</td>\n",
       "      <td>i'm on the episode where t'pol starts smoking ...</td>\n",
       "      <td>startrek</td>\n",
       "      <td>sipep212</td>\n",
       "      <td>watching enterprise again and i forgot so many...</td>\n",
       "    </tr>\n",
       "    <tr>\n",
       "      <th>7625</th>\n",
       "      <td>[oc] ultra nerdy easter egg reference: star tr...</td>\n",
       "      <td>following up on my season opener post, here's ...</td>\n",
       "      <td>startrek</td>\n",
       "      <td>SiDtheTurtle</td>\n",
       "      <td>[oc] ultra nerdy easter egg reference: star tr...</td>\n",
       "    </tr>\n",
       "    <tr>\n",
       "      <th>1819</th>\n",
       "      <td>star wars epoch</td>\n",
       "      <td>i understand that the battle of yavin establis...</td>\n",
       "      <td>starwars</td>\n",
       "      <td>Beardydan007</td>\n",
       "      <td>star wars epoch i understand that the battle o...</td>\n",
       "    </tr>\n",
       "  </tbody>\n",
       "</table>\n",
       "</div>"
      ],
      "text/plain": [
       "                                                   title  \\\n",
       "3157                                     maul and savage   \n",
       "11167                a lifelong fan's take on st: picard   \n",
       "9628   watching enterprise again and i forgot so many...   \n",
       "7625   [oc] ultra nerdy easter egg reference: star tr...   \n",
       "1819                                     star wars epoch   \n",
       "\n",
       "                                                selftext subreddit  \\\n",
       "3157   always thought it was dumb when obi-wan saw sa...  starwars   \n",
       "11167  \\ni have been a loyal and loving star trek fan...  startrek   \n",
       "9628   i'm on the episode where t'pol starts smoking ...  startrek   \n",
       "7625   following up on my season opener post, here's ...  startrek   \n",
       "1819   i understand that the battle of yavin establis...  starwars   \n",
       "\n",
       "                    author                                           max_text  \n",
       "3157        cherri-popp-er  maul and savage always thought it was dumb whe...  \n",
       "11167  Victorian_Astronaut  a lifelong fan's take on st: picard \\ni have b...  \n",
       "9628              sipep212  watching enterprise again and i forgot so many...  \n",
       "7625          SiDtheTurtle  [oc] ultra nerdy easter egg reference: star tr...  \n",
       "1819          Beardydan007  star wars epoch i understand that the battle o...  "
      ]
     },
     "execution_count": 53,
     "metadata": {},
     "output_type": "execute_result"
    }
   ],
   "source": [
    "df.sample(5)"
   ]
  },
  {
   "cell_type": "code",
   "execution_count": 54,
   "metadata": {},
   "outputs": [
    {
     "data": {
      "text/html": [
       "<div>\n",
       "<style scoped>\n",
       "    .dataframe tbody tr th:only-of-type {\n",
       "        vertical-align: middle;\n",
       "    }\n",
       "\n",
       "    .dataframe tbody tr th {\n",
       "        vertical-align: top;\n",
       "    }\n",
       "\n",
       "    .dataframe thead th {\n",
       "        text-align: right;\n",
       "    }\n",
       "</style>\n",
       "<table border=\"1\" class=\"dataframe\">\n",
       "  <thead>\n",
       "    <tr style=\"text-align: right;\">\n",
       "      <th></th>\n",
       "      <th>title</th>\n",
       "      <th>selftext</th>\n",
       "      <th>subreddit</th>\n",
       "      <th>author</th>\n",
       "      <th>max_text</th>\n",
       "    </tr>\n",
       "  </thead>\n",
       "  <tbody>\n",
       "    <tr>\n",
       "      <th>4730</th>\n",
       "      <td>i totally get it now.</td>\n",
       "      <td>after 20 odd years of stubbornness, this morni...</td>\n",
       "      <td>starwars</td>\n",
       "      <td>Welsh493</td>\n",
       "      <td>i totally get it now. after 20 odd years of st...</td>\n",
       "    </tr>\n",
       "    <tr>\n",
       "      <th>269</th>\n",
       "      <td>qui gon knew that he would die?</td>\n",
       "      <td>in the phantom menace, qui gon teaches anakin ...</td>\n",
       "      <td>starwars</td>\n",
       "      <td>Mixelangelo_00</td>\n",
       "      <td>qui gon knew that he would die? in the phantom...</td>\n",
       "    </tr>\n",
       "    <tr>\n",
       "      <th>1593</th>\n",
       "      <td>did clones receive bribes?</td>\n",
       "      <td>i was rewatching the episode when kenobi becom...</td>\n",
       "      <td>starwars</td>\n",
       "      <td>kingtusk1022</td>\n",
       "      <td>did clones receive bribes? i was rewatching th...</td>\n",
       "    </tr>\n",
       "    <tr>\n",
       "      <th>8950</th>\n",
       "      <td>lower decks in the uk?</td>\n",
       "      <td>is there any word on where and when we can see...</td>\n",
       "      <td>startrek</td>\n",
       "      <td>stuntman_mikee</td>\n",
       "      <td>lower decks in the uk? is there any word on wh...</td>\n",
       "    </tr>\n",
       "    <tr>\n",
       "      <th>8267</th>\n",
       "      <td>order to watch?</td>\n",
       "      <td>newbie here. my introduction to star trek was ...</td>\n",
       "      <td>startrek</td>\n",
       "      <td>carberatordung</td>\n",
       "      <td>order to watch? newbie here. my introduction t...</td>\n",
       "    </tr>\n",
       "    <tr>\n",
       "      <th>6874</th>\n",
       "      <td>reconsidering the \"definitely\" ranking of tos ...</td>\n",
       "      <td>i've noticed lately many discussing that not o...</td>\n",
       "      <td>startrek</td>\n",
       "      <td>tauromachy11</td>\n",
       "      <td>reconsidering the \"definitely\" ranking of tos ...</td>\n",
       "    </tr>\n",
       "    <tr>\n",
       "      <th>198</th>\n",
       "      <td>anyone remember 1-800-true-fan?</td>\n",
       "      <td>i was thinking about all the versions of offic...</td>\n",
       "      <td>starwars</td>\n",
       "      <td>Rebel21b</td>\n",
       "      <td>anyone remember 1-800-true-fan? i was thinking...</td>\n",
       "    </tr>\n",
       "    <tr>\n",
       "      <th>6249</th>\n",
       "      <td>st:tng - s1e19, coming of age is full of fanta...</td>\n",
       "      <td>ig lt. remmick: \"you don't like me very much.\"...</td>\n",
       "      <td>startrek</td>\n",
       "      <td>riesenarethebest</td>\n",
       "      <td>st:tng - s1e19, coming of age is full of fanta...</td>\n",
       "    </tr>\n",
       "    <tr>\n",
       "      <th>4755</th>\n",
       "      <td>question about vaders armor</td>\n",
       "      <td>why didnt vader upgreaded his armor? from comi...</td>\n",
       "      <td>starwars</td>\n",
       "      <td>Gusterrro</td>\n",
       "      <td>question about vaders armor why didnt vader up...</td>\n",
       "    </tr>\n",
       "    <tr>\n",
       "      <th>4553</th>\n",
       "      <td>solo go undeserved hate and was a good movie a...</td>\n",
       "      <td>i’m aware that some parts of solo were a bit t...</td>\n",
       "      <td>starwars</td>\n",
       "      <td>Three-four-fiv</td>\n",
       "      <td>solo go undeserved hate and was a good movie a...</td>\n",
       "    </tr>\n",
       "    <tr>\n",
       "      <th>6415</th>\n",
       "      <td>reimagining the aliens/evolutionary creature s...</td>\n",
       "      <td>again, more pics in the link, [here's what i g...</td>\n",
       "      <td>startrek</td>\n",
       "      <td>Chatechized</td>\n",
       "      <td>reimagining the aliens/evolutionary creature s...</td>\n",
       "    </tr>\n",
       "    <tr>\n",
       "      <th>4908</th>\n",
       "      <td>darth revan</td>\n",
       "      <td>i really wanna get into some revan stories and...</td>\n",
       "      <td>starwars</td>\n",
       "      <td>NoNameMike92</td>\n",
       "      <td>darth revan i really wanna get into some revan...</td>\n",
       "    </tr>\n",
       "    <tr>\n",
       "      <th>8398</th>\n",
       "      <td>did karl urban just get confirmed as the first...</td>\n",
       "      <td>https://www.denofgeek.com/movies/star-wars-the...</td>\n",
       "      <td>startrek</td>\n",
       "      <td>TheKillersVanilla</td>\n",
       "      <td>did karl urban just get confirmed as the first...</td>\n",
       "    </tr>\n",
       "    <tr>\n",
       "      <th>2016</th>\n",
       "      <td>here’s why i’m worried about star wars</td>\n",
       "      <td>i’m worried that if i watch it now as a newer ...</td>\n",
       "      <td>starwars</td>\n",
       "      <td>Radiant_Motor_6481</td>\n",
       "      <td>here’s why i’m worried about star wars i’m wor...</td>\n",
       "    </tr>\n",
       "    <tr>\n",
       "      <th>1262</th>\n",
       "      <td>will zahn re-write his original trilogy and ma...</td>\n",
       "      <td>4 thrawn books have been written recently, fro...</td>\n",
       "      <td>starwars</td>\n",
       "      <td>baron7755</td>\n",
       "      <td>will zahn re-write his original trilogy and ma...</td>\n",
       "    </tr>\n",
       "    <tr>\n",
       "      <th>9218</th>\n",
       "      <td>when did star trek's timeline deviate from our...</td>\n",
       "      <td>tos showed us that the augments were first cre...</td>\n",
       "      <td>startrek</td>\n",
       "      <td>DayspringTrek</td>\n",
       "      <td>when did star trek's timeline deviate from our...</td>\n",
       "    </tr>\n",
       "    <tr>\n",
       "      <th>110</th>\n",
       "      <td>general poll about your favorite faction durin...</td>\n",
       "      <td>[removed]\\n\\n[view poll](https://www.reddit.co...</td>\n",
       "      <td>starwars</td>\n",
       "      <td>ChiaseedNL</td>\n",
       "      <td>general poll about your favorite faction durin...</td>\n",
       "    </tr>\n",
       "    <tr>\n",
       "      <th>5819</th>\n",
       "      <td>anybody know of a resource for info on trek po...</td>\n",
       "      <td>i've checked all the big fan sites i can think...</td>\n",
       "      <td>startrek</td>\n",
       "      <td>trek247</td>\n",
       "      <td>anybody know of a resource for info on trek po...</td>\n",
       "    </tr>\n",
       "    <tr>\n",
       "      <th>5794</th>\n",
       "      <td>i’m genuinely, cautiously optimistic for stran...</td>\n",
       "      <td>i’m not a big fan of discovery and initially r...</td>\n",
       "      <td>startrek</td>\n",
       "      <td>f0rever-n1h1l1st</td>\n",
       "      <td>i’m genuinely, cautiously optimistic for stran...</td>\n",
       "    </tr>\n",
       "    <tr>\n",
       "      <th>2017</th>\n",
       "      <td>duel of the fates symbolism explained</td>\n",
       "      <td>hello! i imagine many of you have heard dave f...</td>\n",
       "      <td>starwars</td>\n",
       "      <td>GabeMercury</td>\n",
       "      <td>duel of the fates symbolism explained hello! i...</td>\n",
       "    </tr>\n",
       "    <tr>\n",
       "      <th>7367</th>\n",
       "      <td>are jack and rudolph ransom related?</td>\n",
       "      <td>something that i've been thinking about regard...</td>\n",
       "      <td>startrek</td>\n",
       "      <td>Arcane_Flame</td>\n",
       "      <td>are jack and rudolph ransom related? something...</td>\n",
       "    </tr>\n",
       "    <tr>\n",
       "      <th>11185</th>\n",
       "      <td>i have a question regarding the prime directiv...</td>\n",
       "      <td>so, i rewatched tos — season 2, episode 23 - t...</td>\n",
       "      <td>startrek</td>\n",
       "      <td>Bipolar_Child</td>\n",
       "      <td>i have a question regarding the prime directiv...</td>\n",
       "    </tr>\n",
       "    <tr>\n",
       "      <th>229</th>\n",
       "      <td>anakin skywalker</td>\n",
       "      <td>you have to admit that anakin skywalker’s stor...</td>\n",
       "      <td>starwars</td>\n",
       "      <td>LugiaIsMyFave</td>\n",
       "      <td>anakin skywalker you have to admit that anakin...</td>\n",
       "    </tr>\n",
       "    <tr>\n",
       "      <th>146</th>\n",
       "      <td>star wars in one sentence</td>\n",
       "      <td>one finally fucks up the galaxy for about 90 y...</td>\n",
       "      <td>starwars</td>\n",
       "      <td>bboy1501</td>\n",
       "      <td>star wars in one sentence one finally fucks up...</td>\n",
       "    </tr>\n",
       "    <tr>\n",
       "      <th>1838</th>\n",
       "      <td>the up coming star wars “feige” era</td>\n",
       "      <td>i am really hoping that they will leave the wh...</td>\n",
       "      <td>starwars</td>\n",
       "      <td>nogudatmaff</td>\n",
       "      <td>the up coming star wars “feige” era i am reall...</td>\n",
       "    </tr>\n",
       "  </tbody>\n",
       "</table>\n",
       "</div>"
      ],
      "text/plain": [
       "                                                   title  \\\n",
       "4730                               i totally get it now.   \n",
       "269                      qui gon knew that he would die?   \n",
       "1593                          did clones receive bribes?   \n",
       "8950                              lower decks in the uk?   \n",
       "8267                                     order to watch?   \n",
       "6874   reconsidering the \"definitely\" ranking of tos ...   \n",
       "198                      anyone remember 1-800-true-fan?   \n",
       "6249   st:tng - s1e19, coming of age is full of fanta...   \n",
       "4755                         question about vaders armor   \n",
       "4553   solo go undeserved hate and was a good movie a...   \n",
       "6415   reimagining the aliens/evolutionary creature s...   \n",
       "4908                                         darth revan   \n",
       "8398   did karl urban just get confirmed as the first...   \n",
       "2016              here’s why i’m worried about star wars   \n",
       "1262   will zahn re-write his original trilogy and ma...   \n",
       "9218   when did star trek's timeline deviate from our...   \n",
       "110    general poll about your favorite faction durin...   \n",
       "5819   anybody know of a resource for info on trek po...   \n",
       "5794   i’m genuinely, cautiously optimistic for stran...   \n",
       "2017               duel of the fates symbolism explained   \n",
       "7367                are jack and rudolph ransom related?   \n",
       "11185  i have a question regarding the prime directiv...   \n",
       "229                                     anakin skywalker   \n",
       "146                            star wars in one sentence   \n",
       "1838                 the up coming star wars “feige” era   \n",
       "\n",
       "                                                selftext subreddit  \\\n",
       "4730   after 20 odd years of stubbornness, this morni...  starwars   \n",
       "269    in the phantom menace, qui gon teaches anakin ...  starwars   \n",
       "1593   i was rewatching the episode when kenobi becom...  starwars   \n",
       "8950   is there any word on where and when we can see...  startrek   \n",
       "8267   newbie here. my introduction to star trek was ...  startrek   \n",
       "6874   i've noticed lately many discussing that not o...  startrek   \n",
       "198    i was thinking about all the versions of offic...  starwars   \n",
       "6249   ig lt. remmick: \"you don't like me very much.\"...  startrek   \n",
       "4755   why didnt vader upgreaded his armor? from comi...  starwars   \n",
       "4553   i’m aware that some parts of solo were a bit t...  starwars   \n",
       "6415   again, more pics in the link, [here's what i g...  startrek   \n",
       "4908   i really wanna get into some revan stories and...  starwars   \n",
       "8398   https://www.denofgeek.com/movies/star-wars-the...  startrek   \n",
       "2016   i’m worried that if i watch it now as a newer ...  starwars   \n",
       "1262   4 thrawn books have been written recently, fro...  starwars   \n",
       "9218   tos showed us that the augments were first cre...  startrek   \n",
       "110    [removed]\\n\\n[view poll](https://www.reddit.co...  starwars   \n",
       "5819   i've checked all the big fan sites i can think...  startrek   \n",
       "5794   i’m not a big fan of discovery and initially r...  startrek   \n",
       "2017   hello! i imagine many of you have heard dave f...  starwars   \n",
       "7367   something that i've been thinking about regard...  startrek   \n",
       "11185  so, i rewatched tos — season 2, episode 23 - t...  startrek   \n",
       "229    you have to admit that anakin skywalker’s stor...  starwars   \n",
       "146    one finally fucks up the galaxy for about 90 y...  starwars   \n",
       "1838   i am really hoping that they will leave the wh...  starwars   \n",
       "\n",
       "                   author                                           max_text  \n",
       "4730             Welsh493  i totally get it now. after 20 odd years of st...  \n",
       "269        Mixelangelo_00  qui gon knew that he would die? in the phantom...  \n",
       "1593         kingtusk1022  did clones receive bribes? i was rewatching th...  \n",
       "8950       stuntman_mikee  lower decks in the uk? is there any word on wh...  \n",
       "8267       carberatordung  order to watch? newbie here. my introduction t...  \n",
       "6874         tauromachy11  reconsidering the \"definitely\" ranking of tos ...  \n",
       "198              Rebel21b  anyone remember 1-800-true-fan? i was thinking...  \n",
       "6249     riesenarethebest  st:tng - s1e19, coming of age is full of fanta...  \n",
       "4755            Gusterrro  question about vaders armor why didnt vader up...  \n",
       "4553       Three-four-fiv  solo go undeserved hate and was a good movie a...  \n",
       "6415          Chatechized  reimagining the aliens/evolutionary creature s...  \n",
       "4908         NoNameMike92  darth revan i really wanna get into some revan...  \n",
       "8398    TheKillersVanilla  did karl urban just get confirmed as the first...  \n",
       "2016   Radiant_Motor_6481  here’s why i’m worried about star wars i’m wor...  \n",
       "1262            baron7755  will zahn re-write his original trilogy and ma...  \n",
       "9218        DayspringTrek  when did star trek's timeline deviate from our...  \n",
       "110            ChiaseedNL  general poll about your favorite faction durin...  \n",
       "5819              trek247  anybody know of a resource for info on trek po...  \n",
       "5794     f0rever-n1h1l1st  i’m genuinely, cautiously optimistic for stran...  \n",
       "2017          GabeMercury  duel of the fates symbolism explained hello! i...  \n",
       "7367         Arcane_Flame  are jack and rudolph ransom related? something...  \n",
       "11185       Bipolar_Child  i have a question regarding the prime directiv...  \n",
       "229         LugiaIsMyFave  anakin skywalker you have to admit that anakin...  \n",
       "146              bboy1501  star wars in one sentence one finally fucks up...  \n",
       "1838          nogudatmaff  the up coming star wars “feige” era i am reall...  "
      ]
     },
     "execution_count": 54,
     "metadata": {},
     "output_type": "execute_result"
    }
   ],
   "source": [
    "df.sample(25)"
   ]
  },
  {
   "cell_type": "code",
   "execution_count": null,
   "metadata": {},
   "outputs": [],
   "source": []
  },
  {
   "cell_type": "code",
   "execution_count": null,
   "metadata": {},
   "outputs": [],
   "source": []
  },
  {
   "cell_type": "code",
   "execution_count": null,
   "metadata": {},
   "outputs": [],
   "source": []
  },
  {
   "cell_type": "code",
   "execution_count": null,
   "metadata": {},
   "outputs": [],
   "source": []
  },
  {
   "cell_type": "code",
   "execution_count": null,
   "metadata": {},
   "outputs": [],
   "source": []
  },
  {
   "cell_type": "code",
   "execution_count": null,
   "metadata": {},
   "outputs": [],
   "source": []
  }
 ],
 "metadata": {
  "kernelspec": {
   "display_name": "Python 3",
   "language": "python",
   "name": "python3"
  },
  "language_info": {
   "codemirror_mode": {
    "name": "ipython",
    "version": 3
   },
   "file_extension": ".py",
   "mimetype": "text/x-python",
   "name": "python",
   "nbconvert_exporter": "python",
   "pygments_lexer": "ipython3",
   "version": "3.8.3"
  }
 },
 "nbformat": 4,
 "nbformat_minor": 4
}
