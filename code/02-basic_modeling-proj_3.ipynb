{
 "cells": [
  {
   "cell_type": "code",
   "execution_count": null,
   "metadata": {},
   "outputs": [],
   "source": []
  },
  {
   "cell_type": "markdown",
   "metadata": {},
   "source": [
    "# Basic Modeling - Project III"
   ]
  },
  {
   "cell_type": "markdown",
   "metadata": {},
   "source": [
    "#### - Choosing the best model to hypertune"
   ]
  },
  {
   "cell_type": "code",
   "execution_count": 5,
   "metadata": {},
   "outputs": [],
   "source": [
    "# Import Basics\n",
    "import numpy as np\n",
    "import pandas as pd\n",
    "\n",
    "#Import Visuals\n",
    "import matplotlib.pyplot as plt\n",
    "import seaborn as sns\n",
    "import missingno as msno\n",
    "\n",
    "# Import Linear Regression Algorithms\n",
    "from sklearn.linear_model import LinearRegression, Lasso, LassoCV ,Ridge, ElasticNet, LogisticRegression, RidgeCV\n",
    "from sklearn.neighbors import KNeighborsRegressor, KNeighborsClassifier\n",
    "\n",
    "from sklearn.ensemble import RandomForestClassifier, ExtraTreesClassifier\n",
    "from sklearn.ensemble import AdaBoostRegressor, AdaBoostClassifier\n",
    "\n",
    "# Import Optimization algorithms\n",
    "from sklearn.pipeline import make_pipeline, Pipeline\n",
    "from sklearn.svm import SVR\n",
    "\n",
    "# Import Data Processing\n",
    "from sklearn.model_selection import train_test_split, GridSearchCV\n",
    "from sklearn.preprocessing import StandardScaler, OneHotEncoder, OrdinalEncoder, PowerTransformer, PolynomialFeatures\n",
    "\n",
    "from sklearn.impute import KNNImputer\n",
    "from sklearn.impute import SimpleImputer\n",
    "from sklearn.compose import ColumnTransformer, make_column_transformer, make_column_selector\n",
    "\n",
    "\n",
    "from sklearn.naive_bayes import MultinomialNB\n",
    "\n",
    "# NPL \n",
    "from textblob import TextBlob\n",
    "from vaderSentiment.vaderSentiment import SentimentIntensityAnalyzer\n",
    "from sklearn.feature_extraction.text import CountVectorizer, TfidfVectorizer\n",
    "from nltk.stem import WordNetLemmatizer\n",
    "from nltk.stem.porter import PorterStemmer\n",
    "\n",
    "\n",
    "#scrapping \n",
    "import json\n",
    "\n",
    "#Import graphical user info\n",
    "from sklearn import set_config\n",
    "\n",
    "# Metrics\n",
    "from sklearn.metrics import accuracy_score, mean_squared_error\n",
    "from sklearn.metrics import mean_absolute_error\n",
    "from sklearn.metrics import balanced_accuracy_score\n",
    "from sklearn.metrics import f1_score\n",
    "from sklearn.metrics import precision_score\n",
    "from sklearn.metrics import recall_score\n",
    "\n",
    "from sklearn.metrics import plot_confusion_matrix\n",
    "from sklearn.metrics import confusion_matrix"
   ]
  },
  {
   "cell_type": "markdown",
   "metadata": {},
   "source": [
    "## Functions"
   ]
  },
  {
   "cell_type": "code",
   "execution_count": 6,
   "metadata": {},
   "outputs": [],
   "source": [
    "\"\"\"\n",
    "   Function to print out score from a make_pipeline flows\n",
    "       input is list of the make_pipeline var name \n",
    "\"\"\"\n",
    "score_train_list = []\n",
    "score_test_list = []\n",
    "accuracy_score_ = []\n",
    "y_preds_list = []\n",
    "precision_score_ = []\n",
    "recall_score_ = []\n",
    "f1_score_ = []\n",
    "\n",
    "\n",
    "def score_pipline(the_pipes, all_pipes_name ):\n",
    "    for est,name in zip(the_pipes,all_pipes_name):\n",
    "       # fit model \n",
    "        est.fit(X_train, y_train)\n",
    "       # score model  \n",
    "        score_test = est.score(X_test, y_test)\n",
    "        score_train = est.score(X_train, y_train)\n",
    "       # create preds\n",
    "        y_preds= est.predict(X_test)\n",
    "        accuracy_score_.append(accuracy_score(y_test, y_preds))\n",
    "        precision_score_.append(precision_score(y_test, y_preds))\n",
    "        recall_score_.append(recall_score(y_test, y_preds))\n",
    "        f1_score_.append(f1_score(y_test, y_preds))\n",
    "       # create list to export \n",
    "        score_train_list.append(score_train)\n",
    "        score_test_list.append(score_test)\n",
    "        y_preds_list.append(y_preds)\n",
    "       # output\n",
    "        print()\n",
    "        print(f'--  Confusion Maxtix --   {name}')\n",
    "        print(confusion_matrix(y_test, y_preds)) \n",
    "        \n",
    "    data = {\n",
    "        'model': all_pipes_name,\n",
    "        'train score':score_train_list,\n",
    "        'test score':score_test_list,\n",
    "        #'y_preds':y_preds_list,\n",
    "        'accuracy score': accuracy_score_,\n",
    "        'precision score': precision_score_,\n",
    "        'recall score' : recall_score_,\n",
    "        #'f1 score':f1_score_,  \n",
    "    }\n",
    "    df = pd.DataFrame(data)\n",
    "    #df.set_index('model', inplace = True, drop = True)\n",
    "    return df"
   ]
  },
  {
   "cell_type": "markdown",
   "metadata": {},
   "source": [
    "### Import DataFrame"
   ]
  },
  {
   "cell_type": "code",
   "execution_count": 7,
   "metadata": {},
   "outputs": [],
   "source": [
    "df = pd.read_csv('../clean_data/clean_data.csv')"
   ]
  },
  {
   "cell_type": "code",
   "execution_count": 8,
   "metadata": {},
   "outputs": [
    {
     "data": {
      "text/plain": [
       "(11720, 5)"
      ]
     },
     "execution_count": 8,
     "metadata": {},
     "output_type": "execute_result"
    }
   ],
   "source": [
    "df.shape"
   ]
  },
  {
   "cell_type": "markdown",
   "metadata": {},
   "source": [
    "### Running tests on a sample of the data"
   ]
  },
  {
   "cell_type": "code",
   "execution_count": 9,
   "metadata": {},
   "outputs": [],
   "source": [
    "\"\"\"\n",
    "    this creates a random sample of the data to run test on our X and y \n",
    "        before we use all the data \n",
    "\"\"\"\n",
    "\n",
    "df_sample = df.sample(2500).copy()"
   ]
  },
  {
   "cell_type": "code",
   "execution_count": 10,
   "metadata": {},
   "outputs": [
    {
     "data": {
      "text/html": [
       "<div>\n",
       "<style scoped>\n",
       "    .dataframe tbody tr th:only-of-type {\n",
       "        vertical-align: middle;\n",
       "    }\n",
       "\n",
       "    .dataframe tbody tr th {\n",
       "        vertical-align: top;\n",
       "    }\n",
       "\n",
       "    .dataframe thead th {\n",
       "        text-align: right;\n",
       "    }\n",
       "</style>\n",
       "<table border=\"1\" class=\"dataframe\">\n",
       "  <thead>\n",
       "    <tr style=\"text-align: right;\">\n",
       "      <th></th>\n",
       "      <th>title</th>\n",
       "      <th>selftext</th>\n",
       "      <th>subreddit</th>\n",
       "      <th>author</th>\n",
       "      <th>max_text</th>\n",
       "    </tr>\n",
       "  </thead>\n",
       "  <tbody>\n",
       "    <tr>\n",
       "      <th>11705</th>\n",
       "      <td>miles o’brian/colm meaney in ds9</td>\n",
       "      <td>was there a line in colm meaney’s contract whe...</td>\n",
       "      <td>startrek</td>\n",
       "      <td>maximus368</td>\n",
       "      <td>miles o’brian/colm meaney in ds9 was there a l...</td>\n",
       "    </tr>\n",
       "    <tr>\n",
       "      <th>8635</th>\n",
       "      <td>what ship is this?</td>\n",
       "      <td>saw this post on facebook. pretty sure it's a ...</td>\n",
       "      <td>startrek</td>\n",
       "      <td>KuatRZ1</td>\n",
       "      <td>what ship is this? saw this post on facebook. ...</td>\n",
       "    </tr>\n",
       "    <tr>\n",
       "      <th>1683</th>\n",
       "      <td>snoke is joruus c'baoth reimagined</td>\n",
       "      <td>i was just listening to the audiobook of heir ...</td>\n",
       "      <td>starwars</td>\n",
       "      <td>JamesonRH</td>\n",
       "      <td>snoke is joruus c'baoth reimagined i was just ...</td>\n",
       "    </tr>\n",
       "    <tr>\n",
       "      <th>10968</th>\n",
       "      <td>admiral nachav</td>\n",
       "      <td>is it just me or is admiral nachav one of the ...</td>\n",
       "      <td>startrek</td>\n",
       "      <td>Danoindigo</td>\n",
       "      <td>admiral nachav is it just me or is admiral nac...</td>\n",
       "    </tr>\n",
       "    <tr>\n",
       "      <th>7371</th>\n",
       "      <td>lower decks is an absolute disappointment</td>\n",
       "      <td>does it bother anyone else that the new star t...</td>\n",
       "      <td>startrek</td>\n",
       "      <td>nacespeedle</td>\n",
       "      <td>lower decks is an absolute disappointment does...</td>\n",
       "    </tr>\n",
       "  </tbody>\n",
       "</table>\n",
       "</div>"
      ],
      "text/plain": [
       "                                           title  \\\n",
       "11705           miles o’brian/colm meaney in ds9   \n",
       "8635                          what ship is this?   \n",
       "1683          snoke is joruus c'baoth reimagined   \n",
       "10968                             admiral nachav   \n",
       "7371   lower decks is an absolute disappointment   \n",
       "\n",
       "                                                selftext subreddit  \\\n",
       "11705  was there a line in colm meaney’s contract whe...  startrek   \n",
       "8635   saw this post on facebook. pretty sure it's a ...  startrek   \n",
       "1683   i was just listening to the audiobook of heir ...  starwars   \n",
       "10968  is it just me or is admiral nachav one of the ...  startrek   \n",
       "7371   does it bother anyone else that the new star t...  startrek   \n",
       "\n",
       "            author                                           max_text  \n",
       "11705   maximus368  miles o’brian/colm meaney in ds9 was there a l...  \n",
       "8635       KuatRZ1  what ship is this? saw this post on facebook. ...  \n",
       "1683     JamesonRH  snoke is joruus c'baoth reimagined i was just ...  \n",
       "10968   Danoindigo  admiral nachav is it just me or is admiral nac...  \n",
       "7371   nacespeedle  lower decks is an absolute disappointment does...  "
      ]
     },
     "execution_count": 10,
     "metadata": {},
     "output_type": "execute_result"
    }
   ],
   "source": [
    "df_sample.head()"
   ]
  },
  {
   "cell_type": "markdown",
   "metadata": {},
   "source": [
    "---"
   ]
  },
  {
   "cell_type": "markdown",
   "metadata": {},
   "source": [
    "### Define X and y"
   ]
  },
  {
   "cell_type": "code",
   "execution_count": 11,
   "metadata": {},
   "outputs": [],
   "source": [
    "#    ---_sample\n",
    "X = df['max_text']"
   ]
  },
  {
   "cell_type": "code",
   "execution_count": 12,
   "metadata": {},
   "outputs": [
    {
     "data": {
      "text/plain": [
       "(11720,)"
      ]
     },
     "execution_count": 12,
     "metadata": {},
     "output_type": "execute_result"
    }
   ],
   "source": [
    "X.shape"
   ]
  },
  {
   "cell_type": "code",
   "execution_count": 13,
   "metadata": {},
   "outputs": [],
   "source": [
    "# starwars = 1 -- _sample--\n",
    "y = np.where(df['subreddit'] == 'starwars', 1, 0)"
   ]
  },
  {
   "cell_type": "code",
   "execution_count": 14,
   "metadata": {},
   "outputs": [
    {
     "data": {
      "text/plain": [
       "array([1, 1, 1, ..., 0, 0, 0])"
      ]
     },
     "execution_count": 14,
     "metadata": {},
     "output_type": "execute_result"
    }
   ],
   "source": [
    "y"
   ]
  },
  {
   "cell_type": "code",
   "execution_count": 18,
   "metadata": {},
   "outputs": [
    {
     "data": {
      "text/plain": [
       "(11720,)"
      ]
     },
     "execution_count": 18,
     "metadata": {},
     "output_type": "execute_result"
    }
   ],
   "source": [
    "y.shape"
   ]
  },
  {
   "cell_type": "code",
   "execution_count": 19,
   "metadata": {},
   "outputs": [
    {
     "data": {
      "text/html": [
       "<div>\n",
       "<style scoped>\n",
       "    .dataframe tbody tr th:only-of-type {\n",
       "        vertical-align: middle;\n",
       "    }\n",
       "\n",
       "    .dataframe tbody tr th {\n",
       "        vertical-align: top;\n",
       "    }\n",
       "\n",
       "    .dataframe thead th {\n",
       "        text-align: right;\n",
       "    }\n",
       "</style>\n",
       "<table border=\"1\" class=\"dataframe\">\n",
       "  <thead>\n",
       "    <tr style=\"text-align: right;\">\n",
       "      <th></th>\n",
       "      <th>title</th>\n",
       "      <th>selftext</th>\n",
       "      <th>subreddit</th>\n",
       "      <th>author</th>\n",
       "      <th>max_text</th>\n",
       "    </tr>\n",
       "  </thead>\n",
       "  <tbody>\n",
       "    <tr>\n",
       "      <th>1683</th>\n",
       "      <td>snoke is joruus c'baoth reimagined</td>\n",
       "      <td>i was just listening to the audiobook of heir ...</td>\n",
       "      <td>starwars</td>\n",
       "      <td>JamesonRH</td>\n",
       "      <td>snoke is joruus c'baoth reimagined i was just ...</td>\n",
       "    </tr>\n",
       "    <tr>\n",
       "      <th>1007</th>\n",
       "      <td>a new star wars trilogy</td>\n",
       "      <td>[removed]\\n\\n[view poll](https://www.reddit.co...</td>\n",
       "      <td>starwars</td>\n",
       "      <td>Spennie14</td>\n",
       "      <td>a new star wars trilogy [removed]\\n\\n[view pol...</td>\n",
       "    </tr>\n",
       "    <tr>\n",
       "      <th>2583</th>\n",
       "      <td>full jedi temple map?</td>\n",
       "      <td>i was curious if we ever got a full map of the...</td>\n",
       "      <td>starwars</td>\n",
       "      <td>Zero_Runo</td>\n",
       "      <td>full jedi temple map? i was curious if we ever...</td>\n",
       "    </tr>\n",
       "    <tr>\n",
       "      <th>3403</th>\n",
       "      <td>the first order was never defeated and is stil...</td>\n",
       "      <td>the battle of exegol only included the final o...</td>\n",
       "      <td>starwars</td>\n",
       "      <td>Thrawn-fanboy</td>\n",
       "      <td>the first order was never defeated and is stil...</td>\n",
       "    </tr>\n",
       "    <tr>\n",
       "      <th>3556</th>\n",
       "      <td>is rey a skywalker or a palpatine in your opinion</td>\n",
       "      <td>[removed]\\n\\n[view poll](https://www.reddit.co...</td>\n",
       "      <td>starwars</td>\n",
       "      <td>Lewizzii</td>\n",
       "      <td>is rey a skywalker or a palpatine in your opin...</td>\n",
       "    </tr>\n",
       "    <tr>\n",
       "      <th>...</th>\n",
       "      <td>...</td>\n",
       "      <td>...</td>\n",
       "      <td>...</td>\n",
       "      <td>...</td>\n",
       "      <td>...</td>\n",
       "    </tr>\n",
       "    <tr>\n",
       "      <th>5644</th>\n",
       "      <td>sith and tragedies</td>\n",
       "      <td>i don't know if anyone has pointed this out be...</td>\n",
       "      <td>starwars</td>\n",
       "      <td>Galvatron64</td>\n",
       "      <td>sith and tragedies i don't know if anyone has ...</td>\n",
       "    </tr>\n",
       "    <tr>\n",
       "      <th>4339</th>\n",
       "      <td>episode ix: rise of skywalker</td>\n",
       "      <td>**what the fuck.** at least the other two were...</td>\n",
       "      <td>starwars</td>\n",
       "      <td>DicksUpMySlave</td>\n",
       "      <td>episode ix: rise of skywalker **what the fuck....</td>\n",
       "    </tr>\n",
       "    <tr>\n",
       "      <th>1546</th>\n",
       "      <td>rey and kylo-ren romantic relationship wierd?</td>\n",
       "      <td>if palatine was kylo-ren's great grand father,...</td>\n",
       "      <td>starwars</td>\n",
       "      <td>thegrimmhealer</td>\n",
       "      <td>rey and kylo-ren romantic relationship wierd? ...</td>\n",
       "    </tr>\n",
       "    <tr>\n",
       "      <th>3364</th>\n",
       "      <td>which of this worlds in the galaxy would you v...</td>\n",
       "      <td>[removed]\\n\\n[view poll](https://www.reddit.co...</td>\n",
       "      <td>starwars</td>\n",
       "      <td>defundthecops</td>\n",
       "      <td>which of this worlds in the galaxy would you v...</td>\n",
       "    </tr>\n",
       "    <tr>\n",
       "      <th>1810</th>\n",
       "      <td>when did the battle of geonosis take place- i ...</td>\n",
       "      <td>what i mean it, i'm presuming there was a cale...</td>\n",
       "      <td>starwars</td>\n",
       "      <td>Sephiroth144</td>\n",
       "      <td>when did the battle of geonosis take place- i ...</td>\n",
       "    </tr>\n",
       "  </tbody>\n",
       "</table>\n",
       "<p>1205 rows × 5 columns</p>\n",
       "</div>"
      ],
      "text/plain": [
       "                                                  title  \\\n",
       "1683                 snoke is joruus c'baoth reimagined   \n",
       "1007                            a new star wars trilogy   \n",
       "2583                              full jedi temple map?   \n",
       "3403  the first order was never defeated and is stil...   \n",
       "3556  is rey a skywalker or a palpatine in your opinion   \n",
       "...                                                 ...   \n",
       "5644                                 sith and tragedies   \n",
       "4339                      episode ix: rise of skywalker   \n",
       "1546      rey and kylo-ren romantic relationship wierd?   \n",
       "3364  which of this worlds in the galaxy would you v...   \n",
       "1810  when did the battle of geonosis take place- i ...   \n",
       "\n",
       "                                               selftext subreddit  \\\n",
       "1683  i was just listening to the audiobook of heir ...  starwars   \n",
       "1007  [removed]\\n\\n[view poll](https://www.reddit.co...  starwars   \n",
       "2583  i was curious if we ever got a full map of the...  starwars   \n",
       "3403  the battle of exegol only included the final o...  starwars   \n",
       "3556  [removed]\\n\\n[view poll](https://www.reddit.co...  starwars   \n",
       "...                                                 ...       ...   \n",
       "5644  i don't know if anyone has pointed this out be...  starwars   \n",
       "4339  **what the fuck.** at least the other two were...  starwars   \n",
       "1546  if palatine was kylo-ren's great grand father,...  starwars   \n",
       "3364  [removed]\\n\\n[view poll](https://www.reddit.co...  starwars   \n",
       "1810  what i mean it, i'm presuming there was a cale...  starwars   \n",
       "\n",
       "              author                                           max_text  \n",
       "1683       JamesonRH  snoke is joruus c'baoth reimagined i was just ...  \n",
       "1007       Spennie14  a new star wars trilogy [removed]\\n\\n[view pol...  \n",
       "2583       Zero_Runo  full jedi temple map? i was curious if we ever...  \n",
       "3403   Thrawn-fanboy  the first order was never defeated and is stil...  \n",
       "3556        Lewizzii  is rey a skywalker or a palpatine in your opin...  \n",
       "...              ...                                                ...  \n",
       "5644     Galvatron64  sith and tragedies i don't know if anyone has ...  \n",
       "4339  DicksUpMySlave  episode ix: rise of skywalker **what the fuck....  \n",
       "1546  thegrimmhealer  rey and kylo-ren romantic relationship wierd? ...  \n",
       "3364   defundthecops  which of this worlds in the galaxy would you v...  \n",
       "1810    Sephiroth144  when did the battle of geonosis take place- i ...  \n",
       "\n",
       "[1205 rows x 5 columns]"
      ]
     },
     "execution_count": 19,
     "metadata": {},
     "output_type": "execute_result"
    }
   ],
   "source": [
    "df_sample[(df_sample['subreddit'] == 'starwars')] #.value_counts(normalize = True)"
   ]
  },
  {
   "cell_type": "markdown",
   "metadata": {},
   "source": [
    "---"
   ]
  },
  {
   "cell_type": "markdown",
   "metadata": {},
   "source": [
    "#### Train test split"
   ]
  },
  {
   "cell_type": "code",
   "execution_count": 20,
   "metadata": {},
   "outputs": [],
   "source": [
    "X_train, X_test, y_train, y_test = train_test_split(X, y, stratify =y , random_state =33)"
   ]
  },
  {
   "cell_type": "markdown",
   "metadata": {},
   "source": [
    "#### baseline / Null score"
   ]
  },
  {
   "cell_type": "code",
   "execution_count": 21,
   "metadata": {},
   "outputs": [
    {
     "data": {
      "text/plain": [
       "0.5126279863481229"
      ]
     },
     "execution_count": 21,
     "metadata": {},
     "output_type": "execute_result"
    }
   ],
   "source": [
    "1- y_train.sum()/len(y_train)"
   ]
  },
  {
   "cell_type": "code",
   "execution_count": null,
   "metadata": {},
   "outputs": [],
   "source": []
  },
  {
   "cell_type": "markdown",
   "metadata": {},
   "source": [
    "#### Estimators & Vectize"
   ]
  },
  {
   "cell_type": "code",
   "execution_count": 22,
   "metadata": {},
   "outputs": [],
   "source": [
    "cvect = CountVectorizer(stop_words = 'english')\n",
    "tfidf = TfidfVectorizer(stop_words = 'english')\n",
    "\n",
    "nbayes = MultinomialNB()\n",
    "clf = LogisticRegression()\n",
    "forest = RandomForestClassifier()\n",
    "ada = AdaBoostClassifier(n_estimators=100)"
   ]
  },
  {
   "cell_type": "markdown",
   "metadata": {},
   "source": [
    "### Pipelines"
   ]
  },
  {
   "cell_type": "code",
   "execution_count": 23,
   "metadata": {},
   "outputs": [],
   "source": [
    "cvect_nbayes = make_pipeline(cvect, nbayes)\n",
    "tfidf_nbayes = make_pipeline(tfidf, nbayes)\n",
    "\n",
    "cvect_clf = make_pipeline(cvect, clf)\n",
    "tfidf_clf = make_pipeline(tfidf, clf)\n",
    "\n",
    "cvect_forest = make_pipeline(cvect, forest)\n",
    "tfidf_forest = make_pipeline(tfidf, forest)\n",
    "\n",
    "cvect_ada = make_pipeline(cvect, ada)\n",
    "tfidf_ada = make_pipeline(tfidf, ada)"
   ]
  },
  {
   "cell_type": "code",
   "execution_count": 24,
   "metadata": {},
   "outputs": [],
   "source": [
    "# list of pipelines\n",
    "\n",
    "all_pipes = [cvect_nbayes, tfidf_nbayes,cvect_clf, tfidf_clf,cvect_forest, tfidf_forest,cvect_ada,tfidf_ada]\n",
    "all_pipes_name = ['cvect_nbayes', 'tfidf_nbayes',\n",
    "                  'cvect_clf', 'tfidf_clf',\n",
    "                  'cvect_forest', 'tfidf_forest',\n",
    "                  'cvect_ada','tfidf_ada']"
   ]
  },
  {
   "cell_type": "markdown",
   "metadata": {},
   "source": [
    "### Fit & Score"
   ]
  },
  {
   "cell_type": "code",
   "execution_count": 25,
   "metadata": {},
   "outputs": [
    {
     "name": "stdout",
     "output_type": "stream",
     "text": [
      "\n",
      "--  Confusion Maxtix --   cvect_nbayes\n",
      "[[1488   14]\n",
      " [  46 1382]]\n",
      "\n",
      "--  Confusion Maxtix --   tfidf_nbayes\n",
      "[[1475   27]\n",
      " [  56 1372]]\n",
      "\n",
      "--  Confusion Maxtix --   cvect_clf\n",
      "[[1467   35]\n",
      " [  48 1380]]\n",
      "\n",
      "--  Confusion Maxtix --   tfidf_clf\n",
      "[[1483   19]\n",
      " [  56 1372]]\n",
      "\n",
      "--  Confusion Maxtix --   cvect_forest\n",
      "[[1468   34]\n",
      " [  40 1388]]\n",
      "\n",
      "--  Confusion Maxtix --   tfidf_forest\n",
      "[[1468   34]\n",
      " [  65 1363]]\n",
      "\n",
      "--  Confusion Maxtix --   cvect_ada\n",
      "[[1474   28]\n",
      " [ 126 1302]]\n",
      "\n",
      "--  Confusion Maxtix --   tfidf_ada\n",
      "[[1457   45]\n",
      " [ 119 1309]]\n"
     ]
    }
   ],
   "source": [
    "\"\"\"\"\n",
    "    score  - a loop to compare out of the box performence estimators\n",
    "        - each estimator uses both TfidfVectorizer & CountVectorizer\n",
    "        - testing 4 separate estimators\n",
    "\"\"\"\n",
    "\n",
    "df_results = score_pipline(all_pipes, all_pipes_name)"
   ]
  },
  {
   "cell_type": "code",
   "execution_count": 26,
   "metadata": {},
   "outputs": [
    {
     "data": {
      "text/html": [
       "<div>\n",
       "<style scoped>\n",
       "    .dataframe tbody tr th:only-of-type {\n",
       "        vertical-align: middle;\n",
       "    }\n",
       "\n",
       "    .dataframe tbody tr th {\n",
       "        vertical-align: top;\n",
       "    }\n",
       "\n",
       "    .dataframe thead th {\n",
       "        text-align: right;\n",
       "    }\n",
       "</style>\n",
       "<table border=\"1\" class=\"dataframe\">\n",
       "  <thead>\n",
       "    <tr style=\"text-align: right;\">\n",
       "      <th></th>\n",
       "      <th>model</th>\n",
       "      <th>train score</th>\n",
       "      <th>test score</th>\n",
       "      <th>accuracy score</th>\n",
       "      <th>precision score</th>\n",
       "      <th>recall score</th>\n",
       "    </tr>\n",
       "  </thead>\n",
       "  <tbody>\n",
       "    <tr>\n",
       "      <th>0</th>\n",
       "      <td>cvect_nbayes</td>\n",
       "      <td>0.990671</td>\n",
       "      <td>0.979522</td>\n",
       "      <td>0.979522</td>\n",
       "      <td>0.989971</td>\n",
       "      <td>0.967787</td>\n",
       "    </tr>\n",
       "    <tr>\n",
       "      <th>1</th>\n",
       "      <td>tfidf_nbayes</td>\n",
       "      <td>0.989192</td>\n",
       "      <td>0.971672</td>\n",
       "      <td>0.971672</td>\n",
       "      <td>0.980701</td>\n",
       "      <td>0.960784</td>\n",
       "    </tr>\n",
       "    <tr>\n",
       "      <th>2</th>\n",
       "      <td>cvect_clf</td>\n",
       "      <td>0.998749</td>\n",
       "      <td>0.971672</td>\n",
       "      <td>0.971672</td>\n",
       "      <td>0.975265</td>\n",
       "      <td>0.966387</td>\n",
       "    </tr>\n",
       "    <tr>\n",
       "      <th>3</th>\n",
       "      <td>tfidf_clf</td>\n",
       "      <td>0.992378</td>\n",
       "      <td>0.974403</td>\n",
       "      <td>0.974403</td>\n",
       "      <td>0.986341</td>\n",
       "      <td>0.960784</td>\n",
       "    </tr>\n",
       "    <tr>\n",
       "      <th>4</th>\n",
       "      <td>cvect_forest</td>\n",
       "      <td>1.000000</td>\n",
       "      <td>0.974744</td>\n",
       "      <td>0.974744</td>\n",
       "      <td>0.976090</td>\n",
       "      <td>0.971989</td>\n",
       "    </tr>\n",
       "    <tr>\n",
       "      <th>5</th>\n",
       "      <td>tfidf_forest</td>\n",
       "      <td>1.000000</td>\n",
       "      <td>0.966212</td>\n",
       "      <td>0.966212</td>\n",
       "      <td>0.975662</td>\n",
       "      <td>0.954482</td>\n",
       "    </tr>\n",
       "    <tr>\n",
       "      <th>6</th>\n",
       "      <td>cvect_ada</td>\n",
       "      <td>0.959954</td>\n",
       "      <td>0.947440</td>\n",
       "      <td>0.947440</td>\n",
       "      <td>0.978947</td>\n",
       "      <td>0.911765</td>\n",
       "    </tr>\n",
       "    <tr>\n",
       "      <th>7</th>\n",
       "      <td>tfidf_ada</td>\n",
       "      <td>0.960523</td>\n",
       "      <td>0.944027</td>\n",
       "      <td>0.944027</td>\n",
       "      <td>0.966765</td>\n",
       "      <td>0.916667</td>\n",
       "    </tr>\n",
       "  </tbody>\n",
       "</table>\n",
       "</div>"
      ],
      "text/plain": [
       "          model  train score  test score  accuracy score  precision score  \\\n",
       "0  cvect_nbayes     0.990671    0.979522        0.979522         0.989971   \n",
       "1  tfidf_nbayes     0.989192    0.971672        0.971672         0.980701   \n",
       "2     cvect_clf     0.998749    0.971672        0.971672         0.975265   \n",
       "3     tfidf_clf     0.992378    0.974403        0.974403         0.986341   \n",
       "4  cvect_forest     1.000000    0.974744        0.974744         0.976090   \n",
       "5  tfidf_forest     1.000000    0.966212        0.966212         0.975662   \n",
       "6     cvect_ada     0.959954    0.947440        0.947440         0.978947   \n",
       "7     tfidf_ada     0.960523    0.944027        0.944027         0.966765   \n",
       "\n",
       "   recall score  \n",
       "0      0.967787  \n",
       "1      0.960784  \n",
       "2      0.966387  \n",
       "3      0.960784  \n",
       "4      0.971989  \n",
       "5      0.954482  \n",
       "6      0.911765  \n",
       "7      0.916667  "
      ]
     },
     "execution_count": 26,
     "metadata": {},
     "output_type": "execute_result"
    }
   ],
   "source": [
    "# data frame with results\n",
    "#df_results.set_index('model', inplace = True, drop = True)\n",
    "#df_results = df_results.T\n",
    "\n",
    "df_results"
   ]
  },
  {
   "cell_type": "code",
   "execution_count": null,
   "metadata": {},
   "outputs": [],
   "source": []
  },
  {
   "cell_type": "markdown",
   "metadata": {},
   "source": [
    "---"
   ]
  },
  {
   "cell_type": "markdown",
   "metadata": {},
   "source": [
    "### Model Evaluation:"
   ]
  },
  {
   "cell_type": "markdown",
   "metadata": {},
   "source": [
    "In desided on our basic model we ran a base model of Naive Bayes, Logistic Regression, Random Forest and Adaboost classifier models, each paired with TfidfVectorizer and CountVectorizer.  \n",
    "\n",
    "We are looking to see which model has the best Accuracy and Precision.\n",
    "Specifically of the subreddits that we idenified as being Starwas, how many of those did we get correct. \n",
    "\n",
    "Using this Rubric we found that Naive Bayes with Count Vectorizer yeilds the highest performence. \n",
    "\n",
    "Below are all graphs showing each model accuracy and precision score. "
   ]
  },
  {
   "cell_type": "code",
   "execution_count": 28,
   "metadata": {},
   "outputs": [
    {
     "data": {
      "image/png": "[encoded data removed]",
      "text/plain": [
       "<Figure size 648x432 with 1 Axes>"
      ]
     },
     "metadata": {
      "needs_background": "light"
     },
     "output_type": "display_data"
    }
   ],
   "source": [
    "# Graph for Accuracy \n",
    "\n",
    "plt.figure(figsize = (9,6))\n",
    "ax = sns.barplot(x = 'model', y='accuracy score',\n",
    "                 data = df_results,\n",
    "                 palette=\"rocket\", \n",
    "                 order=df_results.sort_values('accuracy score', ascending = False).model, alpha = .9,\n",
    "                )\n",
    "for p in ax.patches:\n",
    "    ax.annotate(format(p.get_height(), '.4f'),\n",
    "                  (p.get_x()+ p.get_width() / 2., p.get_height()),\n",
    "                  ha = 'center', va = 'center',\n",
    "                  xytext = (0,9),\n",
    "                  textcoords = 'offset points')\n",
    "plt.xlabel(\"Model\", size=15)\n",
    "plt.ylabel(\"Score\", size=15)\n",
    "plt.title(\"Accuracy Score\", size=18)\n",
    "plt.tight_layout()\n",
    "\n",
    "\n",
    "plt.savefig(\"../clean_data/basic_model_Accuracy_Score\", dpi=100)"
   ]
  },
  {
   "cell_type": "code",
   "execution_count": 29,
   "metadata": {},
   "outputs": [
    {
     "data": {
      "image/png": "[encoded data removed]",
      "text/plain": [
       "<Figure size 648x432 with 1 Axes>"
      ]
     },
     "metadata": {
      "needs_background": "light"
     },
     "output_type": "display_data"
    }
   ],
   "source": [
    "# Graph for Test score \n",
    "\n",
    "plt.figure(figsize = (9,6))\n",
    "ax = sns.barplot(x = 'model', y='precision score',\n",
    "                 data = df_results,\n",
    "                 palette=\"viridis\",\n",
    "                 order=df_results.sort_values('precision score', ascending = False).model, alpha = .9,\n",
    "                )\n",
    "for p in ax.patches:\n",
    "    ax.annotate(format(p.get_height(), '.4f'),\n",
    "                  (p.get_x()+ p.get_width() / 2., p.get_height()),\n",
    "                  ha = 'center', va = 'center',\n",
    "                  xytext = (0,9),\n",
    "                  textcoords = 'offset points')\n",
    "plt.xlabel(\"Model\", size=15)\n",
    "plt.ylabel(\"Score\", size=15)\n",
    "plt.title(\"Precision Score\", size=18)\n",
    "plt.tight_layout()\n",
    "\n",
    "plt.savefig(\"../clean_data/basic_model_Precision_Score\", dpi=100)"
   ]
  },
  {
   "cell_type": "code",
   "execution_count": 30,
   "metadata": {},
   "outputs": [
    {
     "data": {
      "image/png": "[encoded data removed]",
      "text/plain": [
       "<Figure size 648x432 with 1 Axes>"
      ]
     },
     "metadata": {
      "needs_background": "light"
     },
     "output_type": "display_data"
    }
   ],
   "source": [
    "# Graph for Test score \n",
    "\n",
    "plt.figure(figsize = (9,6))\n",
    "ax = sns.barplot(x = 'model', y='recall score',\n",
    "                 data = df_results,\n",
    "                 palette=\"viridis\",\n",
    "                 order=df_results.sort_values('recall score', ascending = False).model, alpha = .9,\n",
    "                )\n",
    "for p in ax.patches:\n",
    "    ax.annotate(format(p.get_height(), '.4f'),\n",
    "                  (p.get_x()+ p.get_width() / 2., p.get_height()),\n",
    "                  ha = 'center', va = 'center',\n",
    "                  xytext = (0,9),\n",
    "                  textcoords = 'offset points')\n",
    "plt.xlabel(\"Model\", size=15)\n",
    "plt.ylabel(\"Score\", size=15)\n",
    "plt.title(\"recall score\", size=18)\n",
    "plt.tight_layout()\n",
    "\n",
    "plt.savefig(\"../clean_data/basic_model_Precision_Score\", dpi=100)"
   ]
  },
  {
   "cell_type": "markdown",
   "metadata": {},
   "source": [
    "--- "
   ]
  },
  {
   "cell_type": "markdown",
   "metadata": {},
   "source": [
    "#### Examining the Data "
   ]
  },
  {
   "cell_type": "markdown",
   "metadata": {},
   "source": [
    "Once we felt that our piplines where working well and we have cleaned out all the visable anomalies in our data, we ran all the piplines with all the data we had.  We also re-ran the piplines when we realized we should combing both 'title' + 'subtext'."
   ]
  },
  {
   "cell_type": "markdown",
   "metadata": {},
   "source": [
    "\n",
    "### Take aways\n",
    "\n",
    "Both Accuracy and percision score the Naive Bayes had the highest performence,  therefore we disided to move foward with Naive base & countVectorizer as our model & vectorizer to move foward with. "
   ]
  },
  {
   "cell_type": "code",
   "execution_count": null,
   "metadata": {},
   "outputs": [],
   "source": []
  }
 ],
 "metadata": {
  "kernelspec": {
   "display_name": "Python 3",
   "language": "python",
   "name": "python3"
  },
  "language_info": {
   "codemirror_mode": {
    "name": "ipython",
    "version": 3
   },
   "file_extension": ".py",
   "mimetype": "text/x-python",
   "name": "python",
   "nbconvert_exporter": "python",
   "pygments_lexer": "ipython3",
   "version": "3.8.3"
  }
 },
 "nbformat": 4,
 "nbformat_minor": 4
}
