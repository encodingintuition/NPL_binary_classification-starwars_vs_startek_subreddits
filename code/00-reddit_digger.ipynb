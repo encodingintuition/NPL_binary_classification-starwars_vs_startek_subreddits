{
 "cells": [
  {
   "cell_type": "code",
   "execution_count": 2,
   "metadata": {},
   "outputs": [],
   "source": [
    "# Import Basics\n",
    "import numpy as np\n",
    "import pandas as pd\n",
    "\n",
    "#Import Visuals\n",
    "import matplotlib.pyplot as plt\n",
    "import seaborn as sns\n",
    "import missingno as msno\n",
    "\n",
    "# api fishing \n",
    "import requests\n",
    "import time\n",
    "import datetime\n",
    "import warnings\n",
    "import sys"
   ]
  },
  {
   "cell_type": "code",
   "execution_count": 3,
   "metadata": {},
   "outputs": [],
   "source": [
    "def get_posts(subreddit, n_iter, epoch_right_now): \n",
    "    \n",
    "    base_url = 'https://api.pushshift.io/reddit/search/submission/?subreddit='\n",
    "    df_list = []\n",
    "    \n",
    "    current_time = epoch_right_now\n",
    "    \n",
    "# loop \n",
    "    for post in range(n_iter):\n",
    "        \n",
    "        res = requests.get(    \n",
    "                    base_url,  \n",
    "            \n",
    "           \n",
    "                    params = { 'subreddit' : subreddit,\n",
    "                               'size' : 100,   # number of max pulls per login \n",
    "                               'lang' : True,  # misterious\n",
    "                               'before' : current_time }  # pull everything from current time backward\n",
    "                            )\n",
    "        \n",
    "        df = pd.DataFrame(res.json()['data']) # the magic happens. turning the requests data into a data from through json\n",
    "        \n",
    "        df = df.loc[:, ['title',                # standard pulls, do i need more or less then this \n",
    "                        'created_utc', \n",
    "                        'selftext',\n",
    "                        'subreddit',\n",
    "                        'author',\n",
    "                        'media_only',\n",
    "                        'permalink']]\n",
    "        \n",
    "        df_list.append(df)\n",
    "        \n",
    "        \n",
    "        time.sleep(3) # add wait time\n",
    "        print(post) # counter to see process\n",
    "        \n",
    "        current_time = df['created_utc'].min() # update time for next pull \n",
    "    return pd.concat(df_list, axis=0)\n",
    "\n",
    "\n",
    "\n",
    "# Adapated from Tim Book's Lesson Example & adapted from Sara's Breakfast club lession"
   ]
  },
  {
   "cell_type": "code",
   "execution_count": 4,
   "metadata": {},
   "outputs": [],
   "source": [
    "# 3.1599348173, 4.1598408820, 5.1597497769, 6.1596742483. 7.1595900405, 8.1595096491"
   ]
  },
  {
   "cell_type": "code",
   "execution_count": 9,
   "metadata": {},
   "outputs": [
    {
     "name": "stdout",
     "output_type": "stream",
     "text": [
      "0\n",
      "1\n",
      "2\n",
      "3\n",
      "4\n",
      "5\n",
      "6\n",
      "7\n",
      "8\n",
      "9\n",
      "10\n",
      "11\n",
      "12\n",
      "13\n",
      "14\n",
      "15\n",
      "16\n",
      "17\n",
      "18\n",
      "19\n",
      "20\n",
      "21\n",
      "22\n",
      "23\n",
      "24\n",
      "25\n",
      "26\n",
      "27\n",
      "28\n",
      "29\n",
      "30\n",
      "31\n",
      "32\n",
      "33\n",
      "34\n",
      "35\n",
      "36\n"
     ]
    }
   ],
   "source": [
    "##### demo day test\n",
    "starwars = get_posts('StarWars',37,1594341986)\n",
    "starwars.to_csv('./data/starwars_009.csv')"
   ]
  },
  {
   "cell_type": "code",
   "execution_count": 8,
   "metadata": {},
   "outputs": [],
   "source": [
    "# startrek1597871378, 1594612166"
   ]
  },
  {
   "cell_type": "code",
   "execution_count": 7,
   "metadata": {},
   "outputs": [
    {
     "name": "stdout",
     "output_type": "stream",
     "text": [
      "0\n",
      "1\n",
      "2\n",
      "3\n",
      "4\n",
      "5\n",
      "6\n",
      "7\n",
      "8\n",
      "9\n",
      "10\n",
      "11\n",
      "12\n",
      "13\n",
      "14\n"
     ]
    }
   ],
   "source": [
    "# demo day test\n",
    "startrek = get_posts('startrek',15,1590926131)\n",
    "startrek.to_csv('./data/startrek_004.csv')"
   ]
  },
  {
   "cell_type": "code",
   "execution_count": null,
   "metadata": {},
   "outputs": [],
   "source": [
    "# 1. 1601387173"
   ]
  },
  {
   "cell_type": "code",
   "execution_count": 19,
   "metadata": {},
   "outputs": [
    {
     "name": "stdout",
     "output_type": "stream",
     "text": [
      "0\n",
      "1\n",
      "2\n",
      "3\n",
      "4\n",
      "5\n",
      "6\n",
      "7\n",
      "8\n",
      "9\n",
      "10\n",
      "11\n",
      "12\n",
      "13\n",
      "14\n",
      "15\n",
      "16\n",
      "17\n",
      "18\n",
      "19\n",
      "20\n",
      "21\n",
      "22\n",
      "23\n",
      "24\n"
     ]
    }
   ],
   "source": [
    "##### StarWarsLeaks\n",
    "StarWarsLeaks = get_posts('StarWarsLeaks',25,1601387173)\n",
    "StarWarsLeaks.to_csv('./StarWarsLeaks_001.csv')\n"
   ]
  },
  {
   "cell_type": "code",
   "execution_count": null,
   "metadata": {},
   "outputs": [],
   "source": []
  }
 ],
 "metadata": {
  "kernelspec": {
   "display_name": "Python 3",
   "language": "python",
   "name": "python3"
  },
  "language_info": {
   "codemirror_mode": {
    "name": "ipython",
    "version": 3
   },
   "file_extension": ".py",
   "mimetype": "text/x-python",
   "name": "python",
   "nbconvert_exporter": "python",
   "pygments_lexer": "ipython3",
   "version": "3.8.3"
  }
 },
 "nbformat": 4,
 "nbformat_minor": 4
}
